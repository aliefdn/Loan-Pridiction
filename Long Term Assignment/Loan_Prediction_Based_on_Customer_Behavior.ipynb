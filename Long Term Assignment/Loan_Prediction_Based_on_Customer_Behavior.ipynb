{
  "nbformat": 4,
  "nbformat_minor": 0,
  "metadata": {
    "colab": {
      "name": "Loan Prediction Based on Customer Behavior.ipynb",
      "provenance": [],
      "collapsed_sections": [
        "hxyZf4_mB0eM",
        "kgQ_ZwRCCAmz",
        "o2FtvfFyDu8p",
        "OEI8XOSnEXYN",
        "HmkZgXb6Kvni",
        "6QoIlIZEK1Hw",
        "bcBIU_E7LVB_"
      ]
    },
    "kernelspec": {
      "name": "python3",
      "display_name": "Python 3"
    },
    "language_info": {
      "name": "python"
    }
  },
  "cells": [
    {
      "cell_type": "markdown",
      "metadata": {
        "id": "Z0nYHVhVBnQ5"
      },
      "source": [
        "# Loan Prediction Based On Customer Behaviour\n",
        "\n",
        "by: Alief Devara Nabil Batch 5"
      ]
    },
    {
      "cell_type": "markdown",
      "metadata": {
        "id": "hxyZf4_mB0eM"
      },
      "source": [
        "## Data Preparation"
      ]
    },
    {
      "cell_type": "code",
      "metadata": {
        "colab": {
          "base_uri": "https://localhost:8080/"
        },
        "id": "B5el6KiqRMA-",
        "outputId": "05a2c19d-2f3c-4f64-a910-88bc90d7485f"
      },
      "source": [
        "from google.colab import drive\n",
        "drive.mount('/content/gdrive')"
      ],
      "execution_count": 160,
      "outputs": [
        {
          "output_type": "stream",
          "name": "stdout",
          "text": [
            "Drive already mounted at /content/gdrive; to attempt to forcibly remount, call drive.mount(\"/content/gdrive\", force_remount=True).\n"
          ]
        }
      ]
    },
    {
      "cell_type": "code",
      "metadata": {
        "colab": {
          "base_uri": "https://localhost:8080/"
        },
        "id": "yj5JjTVDRYyO",
        "outputId": "73418bf3-3a98-4b00-89b1-4207cb1960ed"
      },
      "source": [
        "%cd /content/gdrive/MyDrive/Dibimbing/Long Term Assign"
      ],
      "execution_count": 161,
      "outputs": [
        {
          "output_type": "stream",
          "name": "stdout",
          "text": [
            "/content/gdrive/MyDrive/Dibimbing/Long Term Assign\n"
          ]
        }
      ]
    },
    {
      "cell_type": "code",
      "metadata": {
        "id": "58d5PPxtRePl"
      },
      "source": [
        "import pandas as pd\n",
        "import numpy as np\n",
        "from matplotlib import pyplot as plt\n",
        "import seaborn as sns\n",
        "from sklearn.model_selection import train_test_split\n",
        "\n",
        "from sklearn import preprocessing\n",
        "\n",
        "from sklearn.linear_model import LogisticRegression\n",
        "from sklearn import metrics\n",
        "from sklearn.metrics import roc_auc_score # AUC ROC\n",
        "from sklearn.metrics import average_precision_score # AUC PRC\n",
        "from sklearn.metrics import confusion_matrix\n",
        "from sklearn.metrics import plot_confusion_matrix"
      ],
      "execution_count": 217,
      "outputs": []
    },
    {
      "cell_type": "code",
      "metadata": {
        "id": "sMkWk6TtRwUz"
      },
      "source": [
        "#Loading Data\n",
        "df_train = pd.read_csv('Training Data.csv')\n",
        "df_test = pd.read_csv('Test Data.csv')\n",
        "\n",
        "#Data Wrangling\n",
        "df_train_eda = df_train.copy()"
      ],
      "execution_count": 163,
      "outputs": []
    },
    {
      "cell_type": "markdown",
      "metadata": {
        "id": "kgQ_ZwRCCAmz"
      },
      "source": [
        "## Quick Exploration"
      ]
    },
    {
      "cell_type": "code",
      "metadata": {
        "colab": {
          "base_uri": "https://localhost:8080/",
          "height": 224
        },
        "id": "w6dnQZ2XStSu",
        "outputId": "bdb222e0-7fe6-4051-d628-0411c8f66079"
      },
      "source": [
        "df_train.head()"
      ],
      "execution_count": 164,
      "outputs": [
        {
          "output_type": "execute_result",
          "data": {
            "text/html": [
              "<div>\n",
              "<style scoped>\n",
              "    .dataframe tbody tr th:only-of-type {\n",
              "        vertical-align: middle;\n",
              "    }\n",
              "\n",
              "    .dataframe tbody tr th {\n",
              "        vertical-align: top;\n",
              "    }\n",
              "\n",
              "    .dataframe thead th {\n",
              "        text-align: right;\n",
              "    }\n",
              "</style>\n",
              "<table border=\"1\" class=\"dataframe\">\n",
              "  <thead>\n",
              "    <tr style=\"text-align: right;\">\n",
              "      <th></th>\n",
              "      <th>Id</th>\n",
              "      <th>Income</th>\n",
              "      <th>Age</th>\n",
              "      <th>Experience</th>\n",
              "      <th>Married/Single</th>\n",
              "      <th>House_Ownership</th>\n",
              "      <th>Car_Ownership</th>\n",
              "      <th>Profession</th>\n",
              "      <th>CITY</th>\n",
              "      <th>STATE</th>\n",
              "      <th>CURRENT_JOB_YRS</th>\n",
              "      <th>CURRENT_HOUSE_YRS</th>\n",
              "      <th>Risk_Flag</th>\n",
              "    </tr>\n",
              "  </thead>\n",
              "  <tbody>\n",
              "    <tr>\n",
              "      <th>0</th>\n",
              "      <td>1</td>\n",
              "      <td>1303834</td>\n",
              "      <td>23</td>\n",
              "      <td>3</td>\n",
              "      <td>single</td>\n",
              "      <td>rented</td>\n",
              "      <td>no</td>\n",
              "      <td>Mechanical_engineer</td>\n",
              "      <td>Rewa</td>\n",
              "      <td>Madhya_Pradesh</td>\n",
              "      <td>3</td>\n",
              "      <td>13</td>\n",
              "      <td>0</td>\n",
              "    </tr>\n",
              "    <tr>\n",
              "      <th>1</th>\n",
              "      <td>2</td>\n",
              "      <td>7574516</td>\n",
              "      <td>40</td>\n",
              "      <td>10</td>\n",
              "      <td>single</td>\n",
              "      <td>rented</td>\n",
              "      <td>no</td>\n",
              "      <td>Software_Developer</td>\n",
              "      <td>Parbhani</td>\n",
              "      <td>Maharashtra</td>\n",
              "      <td>9</td>\n",
              "      <td>13</td>\n",
              "      <td>0</td>\n",
              "    </tr>\n",
              "    <tr>\n",
              "      <th>2</th>\n",
              "      <td>3</td>\n",
              "      <td>3991815</td>\n",
              "      <td>66</td>\n",
              "      <td>4</td>\n",
              "      <td>married</td>\n",
              "      <td>rented</td>\n",
              "      <td>no</td>\n",
              "      <td>Technical_writer</td>\n",
              "      <td>Alappuzha</td>\n",
              "      <td>Kerala</td>\n",
              "      <td>4</td>\n",
              "      <td>10</td>\n",
              "      <td>0</td>\n",
              "    </tr>\n",
              "    <tr>\n",
              "      <th>3</th>\n",
              "      <td>4</td>\n",
              "      <td>6256451</td>\n",
              "      <td>41</td>\n",
              "      <td>2</td>\n",
              "      <td>single</td>\n",
              "      <td>rented</td>\n",
              "      <td>yes</td>\n",
              "      <td>Software_Developer</td>\n",
              "      <td>Bhubaneswar</td>\n",
              "      <td>Odisha</td>\n",
              "      <td>2</td>\n",
              "      <td>12</td>\n",
              "      <td>1</td>\n",
              "    </tr>\n",
              "    <tr>\n",
              "      <th>4</th>\n",
              "      <td>5</td>\n",
              "      <td>5768871</td>\n",
              "      <td>47</td>\n",
              "      <td>11</td>\n",
              "      <td>single</td>\n",
              "      <td>rented</td>\n",
              "      <td>no</td>\n",
              "      <td>Civil_servant</td>\n",
              "      <td>Tiruchirappalli[10]</td>\n",
              "      <td>Tamil_Nadu</td>\n",
              "      <td>3</td>\n",
              "      <td>14</td>\n",
              "      <td>1</td>\n",
              "    </tr>\n",
              "  </tbody>\n",
              "</table>\n",
              "</div>"
            ],
            "text/plain": [
              "   Id   Income  Age  ...  CURRENT_JOB_YRS CURRENT_HOUSE_YRS Risk_Flag\n",
              "0   1  1303834   23  ...                3                13         0\n",
              "1   2  7574516   40  ...                9                13         0\n",
              "2   3  3991815   66  ...                4                10         0\n",
              "3   4  6256451   41  ...                2                12         1\n",
              "4   5  5768871   47  ...                3                14         1\n",
              "\n",
              "[5 rows x 13 columns]"
            ]
          },
          "metadata": {},
          "execution_count": 164
        }
      ]
    },
    {
      "cell_type": "code",
      "metadata": {
        "colab": {
          "base_uri": "https://localhost:8080/"
        },
        "id": "jZ3joQnpSxx3",
        "outputId": "bef14dc6-b96a-44d4-9d32-faaf739cfd90"
      },
      "source": [
        "df_train.info()"
      ],
      "execution_count": 165,
      "outputs": [
        {
          "output_type": "stream",
          "name": "stdout",
          "text": [
            "<class 'pandas.core.frame.DataFrame'>\n",
            "RangeIndex: 252000 entries, 0 to 251999\n",
            "Data columns (total 13 columns):\n",
            " #   Column             Non-Null Count   Dtype \n",
            "---  ------             --------------   ----- \n",
            " 0   Id                 252000 non-null  int64 \n",
            " 1   Income             252000 non-null  int64 \n",
            " 2   Age                252000 non-null  int64 \n",
            " 3   Experience         252000 non-null  int64 \n",
            " 4   Married/Single     252000 non-null  object\n",
            " 5   House_Ownership    252000 non-null  object\n",
            " 6   Car_Ownership      252000 non-null  object\n",
            " 7   Profession         252000 non-null  object\n",
            " 8   CITY               252000 non-null  object\n",
            " 9   STATE              252000 non-null  object\n",
            " 10  CURRENT_JOB_YRS    252000 non-null  int64 \n",
            " 11  CURRENT_HOUSE_YRS  252000 non-null  int64 \n",
            " 12  Risk_Flag          252000 non-null  int64 \n",
            "dtypes: int64(7), object(6)\n",
            "memory usage: 25.0+ MB\n"
          ]
        }
      ]
    },
    {
      "cell_type": "code",
      "metadata": {
        "colab": {
          "base_uri": "https://localhost:8080/"
        },
        "id": "wzZnzx9aTJ6x",
        "outputId": "5ad6f545-e2f1-41bc-d63a-58730b3ff14e"
      },
      "source": [
        "df_test.info()"
      ],
      "execution_count": 166,
      "outputs": [
        {
          "output_type": "stream",
          "name": "stdout",
          "text": [
            "<class 'pandas.core.frame.DataFrame'>\n",
            "RangeIndex: 28000 entries, 0 to 27999\n",
            "Data columns (total 12 columns):\n",
            " #   Column             Non-Null Count  Dtype \n",
            "---  ------             --------------  ----- \n",
            " 0   ID                 28000 non-null  int64 \n",
            " 1   Income             28000 non-null  int64 \n",
            " 2   Age                28000 non-null  int64 \n",
            " 3   Experience         28000 non-null  int64 \n",
            " 4   Married/Single     28000 non-null  object\n",
            " 5   House_Ownership    28000 non-null  object\n",
            " 6   Car_Ownership      28000 non-null  object\n",
            " 7   Profession         28000 non-null  object\n",
            " 8   CITY               28000 non-null  object\n",
            " 9   STATE              28000 non-null  object\n",
            " 10  CURRENT_JOB_YRS    28000 non-null  int64 \n",
            " 11  CURRENT_HOUSE_YRS  28000 non-null  int64 \n",
            "dtypes: int64(6), object(6)\n",
            "memory usage: 2.6+ MB\n"
          ]
        }
      ]
    },
    {
      "cell_type": "markdown",
      "metadata": {
        "id": "mujh0GC0DbZx"
      },
      "source": [
        "Train dataset memiliki jumlah data lebih banyak dibandingkan Test Dataset"
      ]
    },
    {
      "cell_type": "code",
      "metadata": {
        "colab": {
          "base_uri": "https://localhost:8080/",
          "height": 419
        },
        "id": "IJvYWwB5TkXf",
        "outputId": "eef42258-2e10-499d-ef10-a3456fc33e83"
      },
      "source": [
        "#Check the difference between 2 dataset\n",
        "cols_diff = df_train.columns.difference(df_test.columns)\n",
        "\n",
        "df_train[cols_diff]"
      ],
      "execution_count": 167,
      "outputs": [
        {
          "output_type": "execute_result",
          "data": {
            "text/html": [
              "<div>\n",
              "<style scoped>\n",
              "    .dataframe tbody tr th:only-of-type {\n",
              "        vertical-align: middle;\n",
              "    }\n",
              "\n",
              "    .dataframe tbody tr th {\n",
              "        vertical-align: top;\n",
              "    }\n",
              "\n",
              "    .dataframe thead th {\n",
              "        text-align: right;\n",
              "    }\n",
              "</style>\n",
              "<table border=\"1\" class=\"dataframe\">\n",
              "  <thead>\n",
              "    <tr style=\"text-align: right;\">\n",
              "      <th></th>\n",
              "      <th>Id</th>\n",
              "      <th>Risk_Flag</th>\n",
              "    </tr>\n",
              "  </thead>\n",
              "  <tbody>\n",
              "    <tr>\n",
              "      <th>0</th>\n",
              "      <td>1</td>\n",
              "      <td>0</td>\n",
              "    </tr>\n",
              "    <tr>\n",
              "      <th>1</th>\n",
              "      <td>2</td>\n",
              "      <td>0</td>\n",
              "    </tr>\n",
              "    <tr>\n",
              "      <th>2</th>\n",
              "      <td>3</td>\n",
              "      <td>0</td>\n",
              "    </tr>\n",
              "    <tr>\n",
              "      <th>3</th>\n",
              "      <td>4</td>\n",
              "      <td>1</td>\n",
              "    </tr>\n",
              "    <tr>\n",
              "      <th>4</th>\n",
              "      <td>5</td>\n",
              "      <td>1</td>\n",
              "    </tr>\n",
              "    <tr>\n",
              "      <th>...</th>\n",
              "      <td>...</td>\n",
              "      <td>...</td>\n",
              "    </tr>\n",
              "    <tr>\n",
              "      <th>251995</th>\n",
              "      <td>251996</td>\n",
              "      <td>0</td>\n",
              "    </tr>\n",
              "    <tr>\n",
              "      <th>251996</th>\n",
              "      <td>251997</td>\n",
              "      <td>0</td>\n",
              "    </tr>\n",
              "    <tr>\n",
              "      <th>251997</th>\n",
              "      <td>251998</td>\n",
              "      <td>0</td>\n",
              "    </tr>\n",
              "    <tr>\n",
              "      <th>251998</th>\n",
              "      <td>251999</td>\n",
              "      <td>0</td>\n",
              "    </tr>\n",
              "    <tr>\n",
              "      <th>251999</th>\n",
              "      <td>252000</td>\n",
              "      <td>0</td>\n",
              "    </tr>\n",
              "  </tbody>\n",
              "</table>\n",
              "<p>252000 rows × 2 columns</p>\n",
              "</div>"
            ],
            "text/plain": [
              "            Id  Risk_Flag\n",
              "0            1          0\n",
              "1            2          0\n",
              "2            3          0\n",
              "3            4          1\n",
              "4            5          1\n",
              "...        ...        ...\n",
              "251995  251996          0\n",
              "251996  251997          0\n",
              "251997  251998          0\n",
              "251998  251999          0\n",
              "251999  252000          0\n",
              "\n",
              "[252000 rows x 2 columns]"
            ]
          },
          "metadata": {},
          "execution_count": 167
        }
      ]
    },
    {
      "cell_type": "markdown",
      "metadata": {
        "id": "beraiYFSC4ZN"
      },
      "source": [
        "Train Dataset memiliki kolom Id dan Risk_Flag yang tidak dimiliki Test Dataset. Perlu diperhatikan bahwa Id dan ID walaupun serupa, namun bernama beda. Selain 2 kolom tersebut seluruh fitur antar kedua dataset serupa."
      ]
    },
    {
      "cell_type": "code",
      "metadata": {
        "colab": {
          "base_uri": "https://localhost:8080/"
        },
        "id": "X-oQAOlHVCDF",
        "outputId": "3f7ad2dd-8b5f-4f2b-ad78-3fab858ccf32"
      },
      "source": [
        "#Check Missing Value\n",
        "df_train.isna().sum()"
      ],
      "execution_count": 168,
      "outputs": [
        {
          "output_type": "execute_result",
          "data": {
            "text/plain": [
              "Id                   0\n",
              "Income               0\n",
              "Age                  0\n",
              "Experience           0\n",
              "Married/Single       0\n",
              "House_Ownership      0\n",
              "Car_Ownership        0\n",
              "Profession           0\n",
              "CITY                 0\n",
              "STATE                0\n",
              "CURRENT_JOB_YRS      0\n",
              "CURRENT_HOUSE_YRS    0\n",
              "Risk_Flag            0\n",
              "dtype: int64"
            ]
          },
          "metadata": {},
          "execution_count": 168
        }
      ]
    },
    {
      "cell_type": "markdown",
      "metadata": {
        "id": "57sOxGcqDj7F"
      },
      "source": [
        "Dataset tidak memiliki value NA atau Null, bisa dikatakan data telah bersih"
      ]
    },
    {
      "cell_type": "markdown",
      "metadata": {
        "id": "o2FtvfFyDu8p"
      },
      "source": [
        "## Feature Engineering"
      ]
    },
    {
      "cell_type": "code",
      "metadata": {
        "id": "Og2t_PqnVbaD"
      },
      "source": [
        "#Label Encode the Married/Single and Car_Ownership columns\n",
        "single_transformer = preprocessing.LabelEncoder()\n",
        "car_owner_transformer = preprocessing.LabelEncoder()\n",
        "\n",
        "single_transformer.fit(df_train['Married/Single'])\n",
        "car_owner_transformer.fit(df_train['Car_Ownership'])\n",
        "    \n",
        "df_train['Is_Single'] = single_transformer.transform(df_train['Married/Single'])\n",
        "df_train['Has_Car'] = car_owner_transformer.transform(df_train['Car_Ownership'])\n",
        "    \n",
        "cols_to_drop = ['Married/Single', 'Car_Ownership', 'Id']\n",
        "df_train = df_train.drop(columns=cols_to_drop)"
      ],
      "execution_count": 169,
      "outputs": []
    },
    {
      "cell_type": "code",
      "metadata": {
        "colab": {
          "base_uri": "https://localhost:8080/",
          "height": 224
        },
        "id": "OptUG_PhY0xv",
        "outputId": "c41928e5-d9d1-41d9-a9c1-c6f9aa30fead"
      },
      "source": [
        "df_train.head()"
      ],
      "execution_count": 170,
      "outputs": [
        {
          "output_type": "execute_result",
          "data": {
            "text/html": [
              "<div>\n",
              "<style scoped>\n",
              "    .dataframe tbody tr th:only-of-type {\n",
              "        vertical-align: middle;\n",
              "    }\n",
              "\n",
              "    .dataframe tbody tr th {\n",
              "        vertical-align: top;\n",
              "    }\n",
              "\n",
              "    .dataframe thead th {\n",
              "        text-align: right;\n",
              "    }\n",
              "</style>\n",
              "<table border=\"1\" class=\"dataframe\">\n",
              "  <thead>\n",
              "    <tr style=\"text-align: right;\">\n",
              "      <th></th>\n",
              "      <th>Income</th>\n",
              "      <th>Age</th>\n",
              "      <th>Experience</th>\n",
              "      <th>House_Ownership</th>\n",
              "      <th>Profession</th>\n",
              "      <th>CITY</th>\n",
              "      <th>STATE</th>\n",
              "      <th>CURRENT_JOB_YRS</th>\n",
              "      <th>CURRENT_HOUSE_YRS</th>\n",
              "      <th>Risk_Flag</th>\n",
              "      <th>Is_Single</th>\n",
              "      <th>Has_Car</th>\n",
              "    </tr>\n",
              "  </thead>\n",
              "  <tbody>\n",
              "    <tr>\n",
              "      <th>0</th>\n",
              "      <td>1303834</td>\n",
              "      <td>23</td>\n",
              "      <td>3</td>\n",
              "      <td>rented</td>\n",
              "      <td>Mechanical_engineer</td>\n",
              "      <td>Rewa</td>\n",
              "      <td>Madhya_Pradesh</td>\n",
              "      <td>3</td>\n",
              "      <td>13</td>\n",
              "      <td>0</td>\n",
              "      <td>1</td>\n",
              "      <td>0</td>\n",
              "    </tr>\n",
              "    <tr>\n",
              "      <th>1</th>\n",
              "      <td>7574516</td>\n",
              "      <td>40</td>\n",
              "      <td>10</td>\n",
              "      <td>rented</td>\n",
              "      <td>Software_Developer</td>\n",
              "      <td>Parbhani</td>\n",
              "      <td>Maharashtra</td>\n",
              "      <td>9</td>\n",
              "      <td>13</td>\n",
              "      <td>0</td>\n",
              "      <td>1</td>\n",
              "      <td>0</td>\n",
              "    </tr>\n",
              "    <tr>\n",
              "      <th>2</th>\n",
              "      <td>3991815</td>\n",
              "      <td>66</td>\n",
              "      <td>4</td>\n",
              "      <td>rented</td>\n",
              "      <td>Technical_writer</td>\n",
              "      <td>Alappuzha</td>\n",
              "      <td>Kerala</td>\n",
              "      <td>4</td>\n",
              "      <td>10</td>\n",
              "      <td>0</td>\n",
              "      <td>0</td>\n",
              "      <td>0</td>\n",
              "    </tr>\n",
              "    <tr>\n",
              "      <th>3</th>\n",
              "      <td>6256451</td>\n",
              "      <td>41</td>\n",
              "      <td>2</td>\n",
              "      <td>rented</td>\n",
              "      <td>Software_Developer</td>\n",
              "      <td>Bhubaneswar</td>\n",
              "      <td>Odisha</td>\n",
              "      <td>2</td>\n",
              "      <td>12</td>\n",
              "      <td>1</td>\n",
              "      <td>1</td>\n",
              "      <td>1</td>\n",
              "    </tr>\n",
              "    <tr>\n",
              "      <th>4</th>\n",
              "      <td>5768871</td>\n",
              "      <td>47</td>\n",
              "      <td>11</td>\n",
              "      <td>rented</td>\n",
              "      <td>Civil_servant</td>\n",
              "      <td>Tiruchirappalli[10]</td>\n",
              "      <td>Tamil_Nadu</td>\n",
              "      <td>3</td>\n",
              "      <td>14</td>\n",
              "      <td>1</td>\n",
              "      <td>1</td>\n",
              "      <td>0</td>\n",
              "    </tr>\n",
              "  </tbody>\n",
              "</table>\n",
              "</div>"
            ],
            "text/plain": [
              "    Income  Age  Experience  ... Risk_Flag Is_Single Has_Car\n",
              "0  1303834   23           3  ...         0         1       0\n",
              "1  7574516   40          10  ...         0         1       0\n",
              "2  3991815   66           4  ...         0         0       0\n",
              "3  6256451   41           2  ...         1         1       1\n",
              "4  5768871   47          11  ...         1         1       0\n",
              "\n",
              "[5 rows x 12 columns]"
            ]
          },
          "metadata": {},
          "execution_count": 170
        }
      ]
    },
    {
      "cell_type": "code",
      "metadata": {
        "id": "qLZ_sU2QZEQN"
      },
      "source": [
        "#Categorize Encode House_Ownership, Profession, CITY, and STATE columns\n",
        "cols_to_categorize = ['House_Ownership', 'Profession', 'CITY', 'STATE']\n",
        "\n",
        "for colname in cols_to_categorize:  \n",
        "    one_hot = preprocessing.LabelEncoder()\n",
        "    one_hot.fit(df_train[colname])\n",
        "    df_train.loc[:, colname] = one_hot.transform(df_train[colname].copy())"
      ],
      "execution_count": 171,
      "outputs": []
    },
    {
      "cell_type": "code",
      "metadata": {
        "colab": {
          "base_uri": "https://localhost:8080/",
          "height": 204
        },
        "id": "kJKcgxYRbCgQ",
        "outputId": "e58c0639-acac-41b7-a88a-72eb65276680"
      },
      "source": [
        "df_train.head()"
      ],
      "execution_count": 172,
      "outputs": [
        {
          "output_type": "execute_result",
          "data": {
            "text/html": [
              "<div>\n",
              "<style scoped>\n",
              "    .dataframe tbody tr th:only-of-type {\n",
              "        vertical-align: middle;\n",
              "    }\n",
              "\n",
              "    .dataframe tbody tr th {\n",
              "        vertical-align: top;\n",
              "    }\n",
              "\n",
              "    .dataframe thead th {\n",
              "        text-align: right;\n",
              "    }\n",
              "</style>\n",
              "<table border=\"1\" class=\"dataframe\">\n",
              "  <thead>\n",
              "    <tr style=\"text-align: right;\">\n",
              "      <th></th>\n",
              "      <th>Income</th>\n",
              "      <th>Age</th>\n",
              "      <th>Experience</th>\n",
              "      <th>House_Ownership</th>\n",
              "      <th>Profession</th>\n",
              "      <th>CITY</th>\n",
              "      <th>STATE</th>\n",
              "      <th>CURRENT_JOB_YRS</th>\n",
              "      <th>CURRENT_HOUSE_YRS</th>\n",
              "      <th>Risk_Flag</th>\n",
              "      <th>Is_Single</th>\n",
              "      <th>Has_Car</th>\n",
              "    </tr>\n",
              "  </thead>\n",
              "  <tbody>\n",
              "    <tr>\n",
              "      <th>0</th>\n",
              "      <td>1303834</td>\n",
              "      <td>23</td>\n",
              "      <td>3</td>\n",
              "      <td>2</td>\n",
              "      <td>33</td>\n",
              "      <td>251</td>\n",
              "      <td>13</td>\n",
              "      <td>3</td>\n",
              "      <td>13</td>\n",
              "      <td>0</td>\n",
              "      <td>1</td>\n",
              "      <td>0</td>\n",
              "    </tr>\n",
              "    <tr>\n",
              "      <th>1</th>\n",
              "      <td>7574516</td>\n",
              "      <td>40</td>\n",
              "      <td>10</td>\n",
              "      <td>2</td>\n",
              "      <td>43</td>\n",
              "      <td>227</td>\n",
              "      <td>14</td>\n",
              "      <td>9</td>\n",
              "      <td>13</td>\n",
              "      <td>0</td>\n",
              "      <td>1</td>\n",
              "      <td>0</td>\n",
              "    </tr>\n",
              "    <tr>\n",
              "      <th>2</th>\n",
              "      <td>3991815</td>\n",
              "      <td>66</td>\n",
              "      <td>4</td>\n",
              "      <td>2</td>\n",
              "      <td>47</td>\n",
              "      <td>8</td>\n",
              "      <td>12</td>\n",
              "      <td>4</td>\n",
              "      <td>10</td>\n",
              "      <td>0</td>\n",
              "      <td>0</td>\n",
              "      <td>0</td>\n",
              "    </tr>\n",
              "    <tr>\n",
              "      <th>3</th>\n",
              "      <td>6256451</td>\n",
              "      <td>41</td>\n",
              "      <td>2</td>\n",
              "      <td>2</td>\n",
              "      <td>43</td>\n",
              "      <td>54</td>\n",
              "      <td>17</td>\n",
              "      <td>2</td>\n",
              "      <td>12</td>\n",
              "      <td>1</td>\n",
              "      <td>1</td>\n",
              "      <td>1</td>\n",
              "    </tr>\n",
              "    <tr>\n",
              "      <th>4</th>\n",
              "      <td>5768871</td>\n",
              "      <td>47</td>\n",
              "      <td>11</td>\n",
              "      <td>2</td>\n",
              "      <td>11</td>\n",
              "      <td>296</td>\n",
              "      <td>22</td>\n",
              "      <td>3</td>\n",
              "      <td>14</td>\n",
              "      <td>1</td>\n",
              "      <td>1</td>\n",
              "      <td>0</td>\n",
              "    </tr>\n",
              "  </tbody>\n",
              "</table>\n",
              "</div>"
            ],
            "text/plain": [
              "    Income  Age  Experience  ...  Risk_Flag  Is_Single  Has_Car\n",
              "0  1303834   23           3  ...          0          1        0\n",
              "1  7574516   40          10  ...          0          1        0\n",
              "2  3991815   66           4  ...          0          0        0\n",
              "3  6256451   41           2  ...          1          1        1\n",
              "4  5768871   47          11  ...          1          1        0\n",
              "\n",
              "[5 rows x 12 columns]"
            ]
          },
          "metadata": {},
          "execution_count": 172
        }
      ]
    },
    {
      "cell_type": "markdown",
      "metadata": {
        "id": "OEI8XOSnEXYN"
      },
      "source": [
        "## Data EDA"
      ]
    },
    {
      "cell_type": "code",
      "metadata": {
        "colab": {
          "base_uri": "https://localhost:8080/"
        },
        "id": "9hsT5ysD3alb",
        "outputId": "2c1e72f1-70a6-4129-ff11-47c61d7704e2"
      },
      "source": [
        "df_train_eda[['Married/Single', 'House_Ownership', 'Car_Ownership']].value_counts(normalize=True)"
      ],
      "execution_count": 173,
      "outputs": [
        {
          "output_type": "execute_result",
          "data": {
            "text/plain": [
              "Married/Single  House_Ownership  Car_Ownership\n",
              "single          rented           no               0.575524\n",
              "                                 yes              0.248635\n",
              "married         rented           no               0.067405\n",
              "single          owned            no               0.033155\n",
              "married         rented           yes              0.028667\n",
              "single          norent_noown     no               0.018262\n",
              "                owned            yes              0.014444\n",
              "                norent_noown     yes              0.007885\n",
              "married         owned            no               0.002413\n",
              "                norent_noown     no               0.001655\n",
              "                owned            yes              0.001250\n",
              "                norent_noown     yes              0.000706\n",
              "dtype: float64"
            ]
          },
          "metadata": {},
          "execution_count": 173
        }
      ]
    },
    {
      "cell_type": "markdown",
      "metadata": {
        "id": "eDPJW_n_EacZ"
      },
      "source": [
        "Dapat terlihat dari data diatas bahwa dataset didominasi oleh **Single Person with Rented House and No Car**, sedangkan **Married Person with No Rent/Owned House and Having Car** menjadi kategori paling sedikit. Dari ini dapat dilihat behaviour dan kategori orang sebagai calon peminjam uang."
      ]
    },
    {
      "cell_type": "code",
      "metadata": {
        "colab": {
          "base_uri": "https://localhost:8080/",
          "height": 297
        },
        "id": "LH_QWQPSbkkX",
        "outputId": "20bc7e81-cc7e-4448-8e84-ae2c9c57c5ee"
      },
      "source": [
        "df_train_eda.describe()"
      ],
      "execution_count": 174,
      "outputs": [
        {
          "output_type": "execute_result",
          "data": {
            "text/html": [
              "<div>\n",
              "<style scoped>\n",
              "    .dataframe tbody tr th:only-of-type {\n",
              "        vertical-align: middle;\n",
              "    }\n",
              "\n",
              "    .dataframe tbody tr th {\n",
              "        vertical-align: top;\n",
              "    }\n",
              "\n",
              "    .dataframe thead th {\n",
              "        text-align: right;\n",
              "    }\n",
              "</style>\n",
              "<table border=\"1\" class=\"dataframe\">\n",
              "  <thead>\n",
              "    <tr style=\"text-align: right;\">\n",
              "      <th></th>\n",
              "      <th>Id</th>\n",
              "      <th>Income</th>\n",
              "      <th>Age</th>\n",
              "      <th>Experience</th>\n",
              "      <th>CURRENT_JOB_YRS</th>\n",
              "      <th>CURRENT_HOUSE_YRS</th>\n",
              "      <th>Risk_Flag</th>\n",
              "    </tr>\n",
              "  </thead>\n",
              "  <tbody>\n",
              "    <tr>\n",
              "      <th>count</th>\n",
              "      <td>252000.000000</td>\n",
              "      <td>2.520000e+05</td>\n",
              "      <td>252000.000000</td>\n",
              "      <td>252000.000000</td>\n",
              "      <td>252000.000000</td>\n",
              "      <td>252000.000000</td>\n",
              "      <td>252000.000000</td>\n",
              "    </tr>\n",
              "    <tr>\n",
              "      <th>mean</th>\n",
              "      <td>126000.500000</td>\n",
              "      <td>4.997117e+06</td>\n",
              "      <td>49.954071</td>\n",
              "      <td>10.084437</td>\n",
              "      <td>6.333877</td>\n",
              "      <td>11.997794</td>\n",
              "      <td>0.123000</td>\n",
              "    </tr>\n",
              "    <tr>\n",
              "      <th>std</th>\n",
              "      <td>72746.278255</td>\n",
              "      <td>2.878311e+06</td>\n",
              "      <td>17.063855</td>\n",
              "      <td>6.002590</td>\n",
              "      <td>3.647053</td>\n",
              "      <td>1.399037</td>\n",
              "      <td>0.328438</td>\n",
              "    </tr>\n",
              "    <tr>\n",
              "      <th>min</th>\n",
              "      <td>1.000000</td>\n",
              "      <td>1.031000e+04</td>\n",
              "      <td>21.000000</td>\n",
              "      <td>0.000000</td>\n",
              "      <td>0.000000</td>\n",
              "      <td>10.000000</td>\n",
              "      <td>0.000000</td>\n",
              "    </tr>\n",
              "    <tr>\n",
              "      <th>25%</th>\n",
              "      <td>63000.750000</td>\n",
              "      <td>2.503015e+06</td>\n",
              "      <td>35.000000</td>\n",
              "      <td>5.000000</td>\n",
              "      <td>3.000000</td>\n",
              "      <td>11.000000</td>\n",
              "      <td>0.000000</td>\n",
              "    </tr>\n",
              "    <tr>\n",
              "      <th>50%</th>\n",
              "      <td>126000.500000</td>\n",
              "      <td>5.000694e+06</td>\n",
              "      <td>50.000000</td>\n",
              "      <td>10.000000</td>\n",
              "      <td>6.000000</td>\n",
              "      <td>12.000000</td>\n",
              "      <td>0.000000</td>\n",
              "    </tr>\n",
              "    <tr>\n",
              "      <th>75%</th>\n",
              "      <td>189000.250000</td>\n",
              "      <td>7.477502e+06</td>\n",
              "      <td>65.000000</td>\n",
              "      <td>15.000000</td>\n",
              "      <td>9.000000</td>\n",
              "      <td>13.000000</td>\n",
              "      <td>0.000000</td>\n",
              "    </tr>\n",
              "    <tr>\n",
              "      <th>max</th>\n",
              "      <td>252000.000000</td>\n",
              "      <td>9.999938e+06</td>\n",
              "      <td>79.000000</td>\n",
              "      <td>20.000000</td>\n",
              "      <td>14.000000</td>\n",
              "      <td>14.000000</td>\n",
              "      <td>1.000000</td>\n",
              "    </tr>\n",
              "  </tbody>\n",
              "</table>\n",
              "</div>"
            ],
            "text/plain": [
              "                  Id        Income  ...  CURRENT_HOUSE_YRS      Risk_Flag\n",
              "count  252000.000000  2.520000e+05  ...      252000.000000  252000.000000\n",
              "mean   126000.500000  4.997117e+06  ...          11.997794       0.123000\n",
              "std     72746.278255  2.878311e+06  ...           1.399037       0.328438\n",
              "min         1.000000  1.031000e+04  ...          10.000000       0.000000\n",
              "25%     63000.750000  2.503015e+06  ...          11.000000       0.000000\n",
              "50%    126000.500000  5.000694e+06  ...          12.000000       0.000000\n",
              "75%    189000.250000  7.477502e+06  ...          13.000000       0.000000\n",
              "max    252000.000000  9.999938e+06  ...          14.000000       1.000000\n",
              "\n",
              "[8 rows x 7 columns]"
            ]
          },
          "metadata": {},
          "execution_count": 174
        }
      ]
    },
    {
      "cell_type": "markdown",
      "metadata": {
        "id": "lTQRJszWFOPb"
      },
      "source": [
        "Disini saya melihat Avg atau Mean dari data dimana calon peminjam memiliki rata-rata A**ge 49.5 tahun, Experience 10 tahun, CURRENT_JOB_YRS 3.6 tahun, dan CURRENT_HOUSE_YRS 6 tahun**"
      ]
    },
    {
      "cell_type": "code",
      "metadata": {
        "id": "b7EFN0qwF9wt"
      },
      "source": [
        "def plot_corr_mtx_pandas(df, method='spearman'):\n",
        "    corr_mtx = df.corr(method=method)\n",
        "    return corr_mtx.style.background_gradient(cmap='coolwarm')"
      ],
      "execution_count": 219,
      "outputs": []
    },
    {
      "cell_type": "code",
      "metadata": {
        "colab": {
          "base_uri": "https://localhost:8080/",
          "height": 292
        },
        "id": "bbIApWe_GXMH",
        "outputId": "4b063a18-4e69-4ead-9eec-75166ba957c9"
      },
      "source": [
        "corr_mtx = plot_corr_mtx_pandas(df_train)\n",
        "\n",
        "corr_mtx"
      ],
      "execution_count": 220,
      "outputs": [
        {
          "output_type": "execute_result",
          "data": {
            "text/html": [
              "<style  type=\"text/css\" >\n",
              "#T_ab18f7ac_29e9_11ec_bf73_0242ac1c0002row0_col0,#T_ab18f7ac_29e9_11ec_bf73_0242ac1c0002row1_col1,#T_ab18f7ac_29e9_11ec_bf73_0242ac1c0002row2_col2,#T_ab18f7ac_29e9_11ec_bf73_0242ac1c0002row3_col3,#T_ab18f7ac_29e9_11ec_bf73_0242ac1c0002row4_col4,#T_ab18f7ac_29e9_11ec_bf73_0242ac1c0002row5_col5,#T_ab18f7ac_29e9_11ec_bf73_0242ac1c0002row6_col6,#T_ab18f7ac_29e9_11ec_bf73_0242ac1c0002row7_col7,#T_ab18f7ac_29e9_11ec_bf73_0242ac1c0002row8_col8,#T_ab18f7ac_29e9_11ec_bf73_0242ac1c0002row9_col9,#T_ab18f7ac_29e9_11ec_bf73_0242ac1c0002row10_col10,#T_ab18f7ac_29e9_11ec_bf73_0242ac1c0002row11_col11{\n",
              "            background-color:  #b40426;\n",
              "            color:  #f1f1f1;\n",
              "        }#T_ab18f7ac_29e9_11ec_bf73_0242ac1c0002row0_col1,#T_ab18f7ac_29e9_11ec_bf73_0242ac1c0002row1_col7,#T_ab18f7ac_29e9_11ec_bf73_0242ac1c0002row1_col10,#T_ab18f7ac_29e9_11ec_bf73_0242ac1c0002row2_col1,#T_ab18f7ac_29e9_11ec_bf73_0242ac1c0002row2_col10,#T_ab18f7ac_29e9_11ec_bf73_0242ac1c0002row3_col2,#T_ab18f7ac_29e9_11ec_bf73_0242ac1c0002row3_col7,#T_ab18f7ac_29e9_11ec_bf73_0242ac1c0002row3_col11,#T_ab18f7ac_29e9_11ec_bf73_0242ac1c0002row4_col7,#T_ab18f7ac_29e9_11ec_bf73_0242ac1c0002row4_col8,#T_ab18f7ac_29e9_11ec_bf73_0242ac1c0002row7_col1,#T_ab18f7ac_29e9_11ec_bf73_0242ac1c0002row7_col3,#T_ab18f7ac_29e9_11ec_bf73_0242ac1c0002row11_col3,#T_ab18f7ac_29e9_11ec_bf73_0242ac1c0002row11_col4,#T_ab18f7ac_29e9_11ec_bf73_0242ac1c0002row11_col8{\n",
              "            background-color:  #4055c8;\n",
              "            color:  #f1f1f1;\n",
              "        }#T_ab18f7ac_29e9_11ec_bf73_0242ac1c0002row0_col2,#T_ab18f7ac_29e9_11ec_bf73_0242ac1c0002row0_col5,#T_ab18f7ac_29e9_11ec_bf73_0242ac1c0002row2_col6,#T_ab18f7ac_29e9_11ec_bf73_0242ac1c0002row9_col6,#T_ab18f7ac_29e9_11ec_bf73_0242ac1c0002row11_col2{\n",
              "            background-color:  #465ecf;\n",
              "            color:  #f1f1f1;\n",
              "        }#T_ab18f7ac_29e9_11ec_bf73_0242ac1c0002row0_col3,#T_ab18f7ac_29e9_11ec_bf73_0242ac1c0002row0_col6,#T_ab18f7ac_29e9_11ec_bf73_0242ac1c0002row1_col6,#T_ab18f7ac_29e9_11ec_bf73_0242ac1c0002row2_col8,#T_ab18f7ac_29e9_11ec_bf73_0242ac1c0002row5_col9,#T_ab18f7ac_29e9_11ec_bf73_0242ac1c0002row5_col10{\n",
              "            background-color:  #455cce;\n",
              "            color:  #f1f1f1;\n",
              "        }#T_ab18f7ac_29e9_11ec_bf73_0242ac1c0002row0_col4,#T_ab18f7ac_29e9_11ec_bf73_0242ac1c0002row1_col3,#T_ab18f7ac_29e9_11ec_bf73_0242ac1c0002row2_col0,#T_ab18f7ac_29e9_11ec_bf73_0242ac1c0002row2_col4,#T_ab18f7ac_29e9_11ec_bf73_0242ac1c0002row3_col8,#T_ab18f7ac_29e9_11ec_bf73_0242ac1c0002row5_col2,#T_ab18f7ac_29e9_11ec_bf73_0242ac1c0002row5_col3,#T_ab18f7ac_29e9_11ec_bf73_0242ac1c0002row5_col8,#T_ab18f7ac_29e9_11ec_bf73_0242ac1c0002row6_col4,#T_ab18f7ac_29e9_11ec_bf73_0242ac1c0002row7_col0,#T_ab18f7ac_29e9_11ec_bf73_0242ac1c0002row8_col4,#T_ab18f7ac_29e9_11ec_bf73_0242ac1c0002row11_col0,#T_ab18f7ac_29e9_11ec_bf73_0242ac1c0002row11_col9{\n",
              "            background-color:  #3d50c3;\n",
              "            color:  #f1f1f1;\n",
              "        }#T_ab18f7ac_29e9_11ec_bf73_0242ac1c0002row0_col7,#T_ab18f7ac_29e9_11ec_bf73_0242ac1c0002row0_col9,#T_ab18f7ac_29e9_11ec_bf73_0242ac1c0002row0_col10,#T_ab18f7ac_29e9_11ec_bf73_0242ac1c0002row0_col11,#T_ab18f7ac_29e9_11ec_bf73_0242ac1c0002row2_col11,#T_ab18f7ac_29e9_11ec_bf73_0242ac1c0002row3_col6,#T_ab18f7ac_29e9_11ec_bf73_0242ac1c0002row4_col3,#T_ab18f7ac_29e9_11ec_bf73_0242ac1c0002row4_col9,#T_ab18f7ac_29e9_11ec_bf73_0242ac1c0002row6_col9,#T_ab18f7ac_29e9_11ec_bf73_0242ac1c0002row7_col10,#T_ab18f7ac_29e9_11ec_bf73_0242ac1c0002row8_col7,#T_ab18f7ac_29e9_11ec_bf73_0242ac1c0002row8_col9,#T_ab18f7ac_29e9_11ec_bf73_0242ac1c0002row10_col7,#T_ab18f7ac_29e9_11ec_bf73_0242ac1c0002row11_col1{\n",
              "            background-color:  #4358cb;\n",
              "            color:  #f1f1f1;\n",
              "        }#T_ab18f7ac_29e9_11ec_bf73_0242ac1c0002row0_col8,#T_ab18f7ac_29e9_11ec_bf73_0242ac1c0002row2_col5,#T_ab18f7ac_29e9_11ec_bf73_0242ac1c0002row3_col0,#T_ab18f7ac_29e9_11ec_bf73_0242ac1c0002row4_col10,#T_ab18f7ac_29e9_11ec_bf73_0242ac1c0002row6_col1,#T_ab18f7ac_29e9_11ec_bf73_0242ac1c0002row6_col10,#T_ab18f7ac_29e9_11ec_bf73_0242ac1c0002row7_col5,#T_ab18f7ac_29e9_11ec_bf73_0242ac1c0002row8_col10,#T_ab18f7ac_29e9_11ec_bf73_0242ac1c0002row10_col1{\n",
              "            background-color:  #3f53c6;\n",
              "            color:  #f1f1f1;\n",
              "        }#T_ab18f7ac_29e9_11ec_bf73_0242ac1c0002row1_col0,#T_ab18f7ac_29e9_11ec_bf73_0242ac1c0002row1_col4,#T_ab18f7ac_29e9_11ec_bf73_0242ac1c0002row1_col8,#T_ab18f7ac_29e9_11ec_bf73_0242ac1c0002row2_col9,#T_ab18f7ac_29e9_11ec_bf73_0242ac1c0002row3_col10,#T_ab18f7ac_29e9_11ec_bf73_0242ac1c0002row5_col0,#T_ab18f7ac_29e9_11ec_bf73_0242ac1c0002row5_col6,#T_ab18f7ac_29e9_11ec_bf73_0242ac1c0002row5_col7,#T_ab18f7ac_29e9_11ec_bf73_0242ac1c0002row6_col0,#T_ab18f7ac_29e9_11ec_bf73_0242ac1c0002row6_col5,#T_ab18f7ac_29e9_11ec_bf73_0242ac1c0002row8_col0,#T_ab18f7ac_29e9_11ec_bf73_0242ac1c0002row8_col1,#T_ab18f7ac_29e9_11ec_bf73_0242ac1c0002row9_col0,#T_ab18f7ac_29e9_11ec_bf73_0242ac1c0002row9_col1,#T_ab18f7ac_29e9_11ec_bf73_0242ac1c0002row9_col2,#T_ab18f7ac_29e9_11ec_bf73_0242ac1c0002row9_col4,#T_ab18f7ac_29e9_11ec_bf73_0242ac1c0002row9_col11,#T_ab18f7ac_29e9_11ec_bf73_0242ac1c0002row10_col3,#T_ab18f7ac_29e9_11ec_bf73_0242ac1c0002row10_col4{\n",
              "            background-color:  #3b4cc0;\n",
              "            color:  #f1f1f1;\n",
              "        }#T_ab18f7ac_29e9_11ec_bf73_0242ac1c0002row1_col2,#T_ab18f7ac_29e9_11ec_bf73_0242ac1c0002row1_col11,#T_ab18f7ac_29e9_11ec_bf73_0242ac1c0002row4_col2,#T_ab18f7ac_29e9_11ec_bf73_0242ac1c0002row4_col11,#T_ab18f7ac_29e9_11ec_bf73_0242ac1c0002row6_col2,#T_ab18f7ac_29e9_11ec_bf73_0242ac1c0002row6_col7,#T_ab18f7ac_29e9_11ec_bf73_0242ac1c0002row7_col11,#T_ab18f7ac_29e9_11ec_bf73_0242ac1c0002row8_col5,#T_ab18f7ac_29e9_11ec_bf73_0242ac1c0002row10_col2,#T_ab18f7ac_29e9_11ec_bf73_0242ac1c0002row10_col6,#T_ab18f7ac_29e9_11ec_bf73_0242ac1c0002row11_col7{\n",
              "            background-color:  #445acc;\n",
              "            color:  #f1f1f1;\n",
              "        }#T_ab18f7ac_29e9_11ec_bf73_0242ac1c0002row1_col5,#T_ab18f7ac_29e9_11ec_bf73_0242ac1c0002row4_col6,#T_ab18f7ac_29e9_11ec_bf73_0242ac1c0002row9_col5,#T_ab18f7ac_29e9_11ec_bf73_0242ac1c0002row9_col10,#T_ab18f7ac_29e9_11ec_bf73_0242ac1c0002row11_col5{\n",
              "            background-color:  #485fd1;\n",
              "            color:  #f1f1f1;\n",
              "        }#T_ab18f7ac_29e9_11ec_bf73_0242ac1c0002row1_col9,#T_ab18f7ac_29e9_11ec_bf73_0242ac1c0002row2_col3,#T_ab18f7ac_29e9_11ec_bf73_0242ac1c0002row3_col4,#T_ab18f7ac_29e9_11ec_bf73_0242ac1c0002row4_col1,#T_ab18f7ac_29e9_11ec_bf73_0242ac1c0002row6_col3,#T_ab18f7ac_29e9_11ec_bf73_0242ac1c0002row7_col9,#T_ab18f7ac_29e9_11ec_bf73_0242ac1c0002row8_col3,#T_ab18f7ac_29e9_11ec_bf73_0242ac1c0002row9_col8,#T_ab18f7ac_29e9_11ec_bf73_0242ac1c0002row10_col8{\n",
              "            background-color:  #3e51c5;\n",
              "            color:  #f1f1f1;\n",
              "        }#T_ab18f7ac_29e9_11ec_bf73_0242ac1c0002row2_col7{\n",
              "            background-color:  #f6bda2;\n",
              "            color:  #000000;\n",
              "        }#T_ab18f7ac_29e9_11ec_bf73_0242ac1c0002row3_col1,#T_ab18f7ac_29e9_11ec_bf73_0242ac1c0002row4_col0,#T_ab18f7ac_29e9_11ec_bf73_0242ac1c0002row7_col4,#T_ab18f7ac_29e9_11ec_bf73_0242ac1c0002row9_col7,#T_ab18f7ac_29e9_11ec_bf73_0242ac1c0002row10_col0{\n",
              "            background-color:  #3c4ec2;\n",
              "            color:  #f1f1f1;\n",
              "        }#T_ab18f7ac_29e9_11ec_bf73_0242ac1c0002row3_col5,#T_ab18f7ac_29e9_11ec_bf73_0242ac1c0002row5_col1,#T_ab18f7ac_29e9_11ec_bf73_0242ac1c0002row5_col4,#T_ab18f7ac_29e9_11ec_bf73_0242ac1c0002row5_col11,#T_ab18f7ac_29e9_11ec_bf73_0242ac1c0002row6_col8,#T_ab18f7ac_29e9_11ec_bf73_0242ac1c0002row7_col8,#T_ab18f7ac_29e9_11ec_bf73_0242ac1c0002row8_col11,#T_ab18f7ac_29e9_11ec_bf73_0242ac1c0002row10_col11,#T_ab18f7ac_29e9_11ec_bf73_0242ac1c0002row11_col10{\n",
              "            background-color:  #4257c9;\n",
              "            color:  #f1f1f1;\n",
              "        }#T_ab18f7ac_29e9_11ec_bf73_0242ac1c0002row3_col9,#T_ab18f7ac_29e9_11ec_bf73_0242ac1c0002row4_col5{\n",
              "            background-color:  #4c66d6;\n",
              "            color:  #000000;\n",
              "        }#T_ab18f7ac_29e9_11ec_bf73_0242ac1c0002row6_col11,#T_ab18f7ac_29e9_11ec_bf73_0242ac1c0002row7_col6,#T_ab18f7ac_29e9_11ec_bf73_0242ac1c0002row8_col6{\n",
              "            background-color:  #4961d2;\n",
              "            color:  #f1f1f1;\n",
              "        }#T_ab18f7ac_29e9_11ec_bf73_0242ac1c0002row7_col2{\n",
              "            background-color:  #f7bca1;\n",
              "            color:  #000000;\n",
              "        }#T_ab18f7ac_29e9_11ec_bf73_0242ac1c0002row8_col2,#T_ab18f7ac_29e9_11ec_bf73_0242ac1c0002row9_col3,#T_ab18f7ac_29e9_11ec_bf73_0242ac1c0002row10_col5,#T_ab18f7ac_29e9_11ec_bf73_0242ac1c0002row10_col9{\n",
              "            background-color:  #4a63d3;\n",
              "            color:  #f1f1f1;\n",
              "        }#T_ab18f7ac_29e9_11ec_bf73_0242ac1c0002row11_col6{\n",
              "            background-color:  #4f69d9;\n",
              "            color:  #000000;\n",
              "        }</style><table id=\"T_ab18f7ac_29e9_11ec_bf73_0242ac1c0002\" ><thead>    <tr>        <th class=\"blank level0\" ></th>        <th class=\"col_heading level0 col0\" >Income</th>        <th class=\"col_heading level0 col1\" >Age</th>        <th class=\"col_heading level0 col2\" >Experience</th>        <th class=\"col_heading level0 col3\" >House_Ownership</th>        <th class=\"col_heading level0 col4\" >Profession</th>        <th class=\"col_heading level0 col5\" >CITY</th>        <th class=\"col_heading level0 col6\" >STATE</th>        <th class=\"col_heading level0 col7\" >CURRENT_JOB_YRS</th>        <th class=\"col_heading level0 col8\" >CURRENT_HOUSE_YRS</th>        <th class=\"col_heading level0 col9\" >Risk_Flag</th>        <th class=\"col_heading level0 col10\" >Is_Single</th>        <th class=\"col_heading level0 col11\" >Has_Car</th>    </tr></thead><tbody>\n",
              "                <tr>\n",
              "                        <th id=\"T_ab18f7ac_29e9_11ec_bf73_0242ac1c0002level0_row0\" class=\"row_heading level0 row0\" >Income</th>\n",
              "                        <td id=\"T_ab18f7ac_29e9_11ec_bf73_0242ac1c0002row0_col0\" class=\"data row0 col0\" >1.000000</td>\n",
              "                        <td id=\"T_ab18f7ac_29e9_11ec_bf73_0242ac1c0002row0_col1\" class=\"data row0 col1\" >-0.000769</td>\n",
              "                        <td id=\"T_ab18f7ac_29e9_11ec_bf73_0242ac1c0002row0_col2\" class=\"data row0 col2\" >0.006387</td>\n",
              "                        <td id=\"T_ab18f7ac_29e9_11ec_bf73_0242ac1c0002row0_col3\" class=\"data row0 col3\" >0.012240</td>\n",
              "                        <td id=\"T_ab18f7ac_29e9_11ec_bf73_0242ac1c0002row0_col4\" class=\"data row0 col4\" >0.000843</td>\n",
              "                        <td id=\"T_ab18f7ac_29e9_11ec_bf73_0242ac1c0002row0_col5\" class=\"data row0 col5\" >-0.001883</td>\n",
              "                        <td id=\"T_ab18f7ac_29e9_11ec_bf73_0242ac1c0002row0_col6\" class=\"data row0 col6\" >-0.004041</td>\n",
              "                        <td id=\"T_ab18f7ac_29e9_11ec_bf73_0242ac1c0002row0_col7\" class=\"data row0 col7\" >0.004253</td>\n",
              "                        <td id=\"T_ab18f7ac_29e9_11ec_bf73_0242ac1c0002row0_col8\" class=\"data row0 col8\" >-0.002450</td>\n",
              "                        <td id=\"T_ab18f7ac_29e9_11ec_bf73_0242ac1c0002row0_col9\" class=\"data row0 col9\" >-0.003082</td>\n",
              "                        <td id=\"T_ab18f7ac_29e9_11ec_bf73_0242ac1c0002row0_col10\" class=\"data row0 col10\" >0.002782</td>\n",
              "                        <td id=\"T_ab18f7ac_29e9_11ec_bf73_0242ac1c0002row0_col11\" class=\"data row0 col11\" >0.004012</td>\n",
              "            </tr>\n",
              "            <tr>\n",
              "                        <th id=\"T_ab18f7ac_29e9_11ec_bf73_0242ac1c0002level0_row1\" class=\"row_heading level0 row1\" >Age</th>\n",
              "                        <td id=\"T_ab18f7ac_29e9_11ec_bf73_0242ac1c0002row1_col0\" class=\"data row1 col0\" >-0.000769</td>\n",
              "                        <td id=\"T_ab18f7ac_29e9_11ec_bf73_0242ac1c0002row1_col1\" class=\"data row1 col1\" >1.000000</td>\n",
              "                        <td id=\"T_ab18f7ac_29e9_11ec_bf73_0242ac1c0002row1_col2\" class=\"data row1 col2\" >-0.001063</td>\n",
              "                        <td id=\"T_ab18f7ac_29e9_11ec_bf73_0242ac1c0002row1_col3\" class=\"data row1 col3\" >-0.014262</td>\n",
              "                        <td id=\"T_ab18f7ac_29e9_11ec_bf73_0242ac1c0002row1_col4\" class=\"data row1 col4\" >-0.008637</td>\n",
              "                        <td id=\"T_ab18f7ac_29e9_11ec_bf73_0242ac1c0002row1_col5\" class=\"data row1 col5\" >0.002323</td>\n",
              "                        <td id=\"T_ab18f7ac_29e9_11ec_bf73_0242ac1c0002row1_col6\" class=\"data row1 col6\" >-0.004684</td>\n",
              "                        <td id=\"T_ab18f7ac_29e9_11ec_bf73_0242ac1c0002row1_col7\" class=\"data row1 col7\" >-0.001889</td>\n",
              "                        <td id=\"T_ab18f7ac_29e9_11ec_bf73_0242ac1c0002row1_col8\" class=\"data row1 col8\" >-0.020129</td>\n",
              "                        <td id=\"T_ab18f7ac_29e9_11ec_bf73_0242ac1c0002row1_col9\" class=\"data row1 col9\" >-0.021852</td>\n",
              "                        <td id=\"T_ab18f7ac_29e9_11ec_bf73_0242ac1c0002row1_col10\" class=\"data row1 col10\" >-0.005342</td>\n",
              "                        <td id=\"T_ab18f7ac_29e9_11ec_bf73_0242ac1c0002row1_col11\" class=\"data row1 col11\" >0.009382</td>\n",
              "            </tr>\n",
              "            <tr>\n",
              "                        <th id=\"T_ab18f7ac_29e9_11ec_bf73_0242ac1c0002level0_row2\" class=\"row_heading level0 row2\" >Experience</th>\n",
              "                        <td id=\"T_ab18f7ac_29e9_11ec_bf73_0242ac1c0002row2_col0\" class=\"data row2 col0\" >0.006387</td>\n",
              "                        <td id=\"T_ab18f7ac_29e9_11ec_bf73_0242ac1c0002row2_col1\" class=\"data row2 col1\" >-0.001063</td>\n",
              "                        <td id=\"T_ab18f7ac_29e9_11ec_bf73_0242ac1c0002row2_col2\" class=\"data row2 col2\" >1.000000</td>\n",
              "                        <td id=\"T_ab18f7ac_29e9_11ec_bf73_0242ac1c0002row2_col3\" class=\"data row2 col3\" >-0.011094</td>\n",
              "                        <td id=\"T_ab18f7ac_29e9_11ec_bf73_0242ac1c0002row2_col4\" class=\"data row2 col4\" >0.001003</td>\n",
              "                        <td id=\"T_ab18f7ac_29e9_11ec_bf73_0242ac1c0002row2_col5\" class=\"data row2 col5\" >-0.025966</td>\n",
              "                        <td id=\"T_ab18f7ac_29e9_11ec_bf73_0242ac1c0002row2_col6\" class=\"data row2 col6\" >-0.001225</td>\n",
              "                        <td id=\"T_ab18f7ac_29e9_11ec_bf73_0242ac1c0002row2_col7\" class=\"data row2 col7\" >0.643308</td>\n",
              "                        <td id=\"T_ab18f7ac_29e9_11ec_bf73_0242ac1c0002row2_col8\" class=\"data row2 col8\" >0.019240</td>\n",
              "                        <td id=\"T_ab18f7ac_29e9_11ec_bf73_0242ac1c0002row2_col9\" class=\"data row2 col9\" >-0.034443</td>\n",
              "                        <td id=\"T_ab18f7ac_29e9_11ec_bf73_0242ac1c0002row2_col10\" class=\"data row2 col10\" >-0.001748</td>\n",
              "                        <td id=\"T_ab18f7ac_29e9_11ec_bf73_0242ac1c0002row2_col11\" class=\"data row2 col11\" >0.007582</td>\n",
              "            </tr>\n",
              "            <tr>\n",
              "                        <th id=\"T_ab18f7ac_29e9_11ec_bf73_0242ac1c0002level0_row3\" class=\"row_heading level0 row3\" >House_Ownership</th>\n",
              "                        <td id=\"T_ab18f7ac_29e9_11ec_bf73_0242ac1c0002row3_col0\" class=\"data row3 col0\" >0.012240</td>\n",
              "                        <td id=\"T_ab18f7ac_29e9_11ec_bf73_0242ac1c0002row3_col1\" class=\"data row3 col1\" >-0.014262</td>\n",
              "                        <td id=\"T_ab18f7ac_29e9_11ec_bf73_0242ac1c0002row3_col2\" class=\"data row3 col2\" >-0.011094</td>\n",
              "                        <td id=\"T_ab18f7ac_29e9_11ec_bf73_0242ac1c0002row3_col3\" class=\"data row3 col3\" >1.000000</td>\n",
              "                        <td id=\"T_ab18f7ac_29e9_11ec_bf73_0242ac1c0002row3_col4\" class=\"data row3 col4\" >0.004434</td>\n",
              "                        <td id=\"T_ab18f7ac_29e9_11ec_bf73_0242ac1c0002row3_col5\" class=\"data row3 col5\" >-0.015640</td>\n",
              "                        <td id=\"T_ab18f7ac_29e9_11ec_bf73_0242ac1c0002row3_col6\" class=\"data row3 col6\" >-0.013319</td>\n",
              "                        <td id=\"T_ab18f7ac_29e9_11ec_bf73_0242ac1c0002row3_col7\" class=\"data row3 col7\" >-0.005583</td>\n",
              "                        <td id=\"T_ab18f7ac_29e9_11ec_bf73_0242ac1c0002row3_col8\" class=\"data row3 col8\" >-0.010074</td>\n",
              "                        <td id=\"T_ab18f7ac_29e9_11ec_bf73_0242ac1c0002row3_col9\" class=\"data row3 col9\" >0.026466</td>\n",
              "                        <td id=\"T_ab18f7ac_29e9_11ec_bf73_0242ac1c0002row3_col10\" class=\"data row3 col10\" >-0.025624</td>\n",
              "                        <td id=\"T_ab18f7ac_29e9_11ec_bf73_0242ac1c0002row3_col11\" class=\"data row3 col11\" >-0.001777</td>\n",
              "            </tr>\n",
              "            <tr>\n",
              "                        <th id=\"T_ab18f7ac_29e9_11ec_bf73_0242ac1c0002level0_row4\" class=\"row_heading level0 row4\" >Profession</th>\n",
              "                        <td id=\"T_ab18f7ac_29e9_11ec_bf73_0242ac1c0002row4_col0\" class=\"data row4 col0\" >0.000843</td>\n",
              "                        <td id=\"T_ab18f7ac_29e9_11ec_bf73_0242ac1c0002row4_col1\" class=\"data row4 col1\" >-0.008637</td>\n",
              "                        <td id=\"T_ab18f7ac_29e9_11ec_bf73_0242ac1c0002row4_col2\" class=\"data row4 col2\" >0.001003</td>\n",
              "                        <td id=\"T_ab18f7ac_29e9_11ec_bf73_0242ac1c0002row4_col3\" class=\"data row4 col3\" >0.004434</td>\n",
              "                        <td id=\"T_ab18f7ac_29e9_11ec_bf73_0242ac1c0002row4_col4\" class=\"data row4 col4\" >1.000000</td>\n",
              "                        <td id=\"T_ab18f7ac_29e9_11ec_bf73_0242ac1c0002row4_col5\" class=\"data row4 col5\" >0.018591</td>\n",
              "                        <td id=\"T_ab18f7ac_29e9_11ec_bf73_0242ac1c0002row4_col6\" class=\"data row4 col6\" >0.002232</td>\n",
              "                        <td id=\"T_ab18f7ac_29e9_11ec_bf73_0242ac1c0002row4_col7\" class=\"data row4 col7\" >-0.002883</td>\n",
              "                        <td id=\"T_ab18f7ac_29e9_11ec_bf73_0242ac1c0002row4_col8\" class=\"data row4 col8\" >0.001788</td>\n",
              "                        <td id=\"T_ab18f7ac_29e9_11ec_bf73_0242ac1c0002row4_col9\" class=\"data row4 col9\" >-0.004772</td>\n",
              "                        <td id=\"T_ab18f7ac_29e9_11ec_bf73_0242ac1c0002row4_col10\" class=\"data row4 col10\" >-0.007581</td>\n",
              "                        <td id=\"T_ab18f7ac_29e9_11ec_bf73_0242ac1c0002row4_col11\" class=\"data row4 col11\" >0.011760</td>\n",
              "            </tr>\n",
              "            <tr>\n",
              "                        <th id=\"T_ab18f7ac_29e9_11ec_bf73_0242ac1c0002level0_row5\" class=\"row_heading level0 row5\" >CITY</th>\n",
              "                        <td id=\"T_ab18f7ac_29e9_11ec_bf73_0242ac1c0002row5_col0\" class=\"data row5 col0\" >-0.001883</td>\n",
              "                        <td id=\"T_ab18f7ac_29e9_11ec_bf73_0242ac1c0002row5_col1\" class=\"data row5 col1\" >0.002323</td>\n",
              "                        <td id=\"T_ab18f7ac_29e9_11ec_bf73_0242ac1c0002row5_col2\" class=\"data row5 col2\" >-0.025966</td>\n",
              "                        <td id=\"T_ab18f7ac_29e9_11ec_bf73_0242ac1c0002row5_col3\" class=\"data row5 col3\" >-0.015640</td>\n",
              "                        <td id=\"T_ab18f7ac_29e9_11ec_bf73_0242ac1c0002row5_col4\" class=\"data row5 col4\" >0.018591</td>\n",
              "                        <td id=\"T_ab18f7ac_29e9_11ec_bf73_0242ac1c0002row5_col5\" class=\"data row5 col5\" >1.000000</td>\n",
              "                        <td id=\"T_ab18f7ac_29e9_11ec_bf73_0242ac1c0002row5_col6\" class=\"data row5 col6\" >-0.044181</td>\n",
              "                        <td id=\"T_ab18f7ac_29e9_11ec_bf73_0242ac1c0002row5_col7\" class=\"data row5 col7\" >-0.025774</td>\n",
              "                        <td id=\"T_ab18f7ac_29e9_11ec_bf73_0242ac1c0002row5_col8\" class=\"data row5 col8\" >-0.010530</td>\n",
              "                        <td id=\"T_ab18f7ac_29e9_11ec_bf73_0242ac1c0002row5_col9\" class=\"data row5 col9\" >0.004569</td>\n",
              "                        <td id=\"T_ab18f7ac_29e9_11ec_bf73_0242ac1c0002row5_col10\" class=\"data row5 col10\" >0.012351</td>\n",
              "                        <td id=\"T_ab18f7ac_29e9_11ec_bf73_0242ac1c0002row5_col11\" class=\"data row5 col11\" >0.001665</td>\n",
              "            </tr>\n",
              "            <tr>\n",
              "                        <th id=\"T_ab18f7ac_29e9_11ec_bf73_0242ac1c0002level0_row6\" class=\"row_heading level0 row6\" >STATE</th>\n",
              "                        <td id=\"T_ab18f7ac_29e9_11ec_bf73_0242ac1c0002row6_col0\" class=\"data row6 col0\" >-0.004041</td>\n",
              "                        <td id=\"T_ab18f7ac_29e9_11ec_bf73_0242ac1c0002row6_col1\" class=\"data row6 col1\" >-0.004684</td>\n",
              "                        <td id=\"T_ab18f7ac_29e9_11ec_bf73_0242ac1c0002row6_col2\" class=\"data row6 col2\" >-0.001225</td>\n",
              "                        <td id=\"T_ab18f7ac_29e9_11ec_bf73_0242ac1c0002row6_col3\" class=\"data row6 col3\" >-0.013319</td>\n",
              "                        <td id=\"T_ab18f7ac_29e9_11ec_bf73_0242ac1c0002row6_col4\" class=\"data row6 col4\" >0.002232</td>\n",
              "                        <td id=\"T_ab18f7ac_29e9_11ec_bf73_0242ac1c0002row6_col5\" class=\"data row6 col5\" >-0.044181</td>\n",
              "                        <td id=\"T_ab18f7ac_29e9_11ec_bf73_0242ac1c0002row6_col6\" class=\"data row6 col6\" >1.000000</td>\n",
              "                        <td id=\"T_ab18f7ac_29e9_11ec_bf73_0242ac1c0002row6_col7\" class=\"data row6 col7\" >0.008564</td>\n",
              "                        <td id=\"T_ab18f7ac_29e9_11ec_bf73_0242ac1c0002row6_col8\" class=\"data row6 col8\" >0.006885</td>\n",
              "                        <td id=\"T_ab18f7ac_29e9_11ec_bf73_0242ac1c0002row6_col9\" class=\"data row6 col9\" >-0.002942</td>\n",
              "                        <td id=\"T_ab18f7ac_29e9_11ec_bf73_0242ac1c0002row6_col10\" class=\"data row6 col10\" >-0.009388</td>\n",
              "                        <td id=\"T_ab18f7ac_29e9_11ec_bf73_0242ac1c0002row6_col11\" class=\"data row6 col11\" >0.025483</td>\n",
              "            </tr>\n",
              "            <tr>\n",
              "                        <th id=\"T_ab18f7ac_29e9_11ec_bf73_0242ac1c0002level0_row7\" class=\"row_heading level0 row7\" >CURRENT_JOB_YRS</th>\n",
              "                        <td id=\"T_ab18f7ac_29e9_11ec_bf73_0242ac1c0002row7_col0\" class=\"data row7 col0\" >0.004253</td>\n",
              "                        <td id=\"T_ab18f7ac_29e9_11ec_bf73_0242ac1c0002row7_col1\" class=\"data row7 col1\" >-0.001889</td>\n",
              "                        <td id=\"T_ab18f7ac_29e9_11ec_bf73_0242ac1c0002row7_col2\" class=\"data row7 col2\" >0.643308</td>\n",
              "                        <td id=\"T_ab18f7ac_29e9_11ec_bf73_0242ac1c0002row7_col3\" class=\"data row7 col3\" >-0.005583</td>\n",
              "                        <td id=\"T_ab18f7ac_29e9_11ec_bf73_0242ac1c0002row7_col4\" class=\"data row7 col4\" >-0.002883</td>\n",
              "                        <td id=\"T_ab18f7ac_29e9_11ec_bf73_0242ac1c0002row7_col5\" class=\"data row7 col5\" >-0.025774</td>\n",
              "                        <td id=\"T_ab18f7ac_29e9_11ec_bf73_0242ac1c0002row7_col6\" class=\"data row7 col6\" >0.008564</td>\n",
              "                        <td id=\"T_ab18f7ac_29e9_11ec_bf73_0242ac1c0002row7_col7\" class=\"data row7 col7\" >1.000000</td>\n",
              "                        <td id=\"T_ab18f7ac_29e9_11ec_bf73_0242ac1c0002row7_col8\" class=\"data row7 col8\" >0.004999</td>\n",
              "                        <td id=\"T_ab18f7ac_29e9_11ec_bf73_0242ac1c0002row7_col9\" class=\"data row7 col9\" >-0.018459</td>\n",
              "                        <td id=\"T_ab18f7ac_29e9_11ec_bf73_0242ac1c0002row7_col10\" class=\"data row7 col10\" >0.003987</td>\n",
              "                        <td id=\"T_ab18f7ac_29e9_11ec_bf73_0242ac1c0002row7_col11\" class=\"data row7 col11\" >0.009160</td>\n",
              "            </tr>\n",
              "            <tr>\n",
              "                        <th id=\"T_ab18f7ac_29e9_11ec_bf73_0242ac1c0002level0_row8\" class=\"row_heading level0 row8\" >CURRENT_HOUSE_YRS</th>\n",
              "                        <td id=\"T_ab18f7ac_29e9_11ec_bf73_0242ac1c0002row8_col0\" class=\"data row8 col0\" >-0.002450</td>\n",
              "                        <td id=\"T_ab18f7ac_29e9_11ec_bf73_0242ac1c0002row8_col1\" class=\"data row8 col1\" >-0.020129</td>\n",
              "                        <td id=\"T_ab18f7ac_29e9_11ec_bf73_0242ac1c0002row8_col2\" class=\"data row8 col2\" >0.019240</td>\n",
              "                        <td id=\"T_ab18f7ac_29e9_11ec_bf73_0242ac1c0002row8_col3\" class=\"data row8 col3\" >-0.010074</td>\n",
              "                        <td id=\"T_ab18f7ac_29e9_11ec_bf73_0242ac1c0002row8_col4\" class=\"data row8 col4\" >0.001788</td>\n",
              "                        <td id=\"T_ab18f7ac_29e9_11ec_bf73_0242ac1c0002row8_col5\" class=\"data row8 col5\" >-0.010530</td>\n",
              "                        <td id=\"T_ab18f7ac_29e9_11ec_bf73_0242ac1c0002row8_col6\" class=\"data row8 col6\" >0.006885</td>\n",
              "                        <td id=\"T_ab18f7ac_29e9_11ec_bf73_0242ac1c0002row8_col7\" class=\"data row8 col7\" >0.004999</td>\n",
              "                        <td id=\"T_ab18f7ac_29e9_11ec_bf73_0242ac1c0002row8_col8\" class=\"data row8 col8\" >1.000000</td>\n",
              "                        <td id=\"T_ab18f7ac_29e9_11ec_bf73_0242ac1c0002row8_col9\" class=\"data row8 col9\" >-0.004385</td>\n",
              "                        <td id=\"T_ab18f7ac_29e9_11ec_bf73_0242ac1c0002row8_col10\" class=\"data row8 col10\" >-0.007524</td>\n",
              "                        <td id=\"T_ab18f7ac_29e9_11ec_bf73_0242ac1c0002row8_col11\" class=\"data row8 col11\" >0.000315</td>\n",
              "            </tr>\n",
              "            <tr>\n",
              "                        <th id=\"T_ab18f7ac_29e9_11ec_bf73_0242ac1c0002level0_row9\" class=\"row_heading level0 row9\" >Risk_Flag</th>\n",
              "                        <td id=\"T_ab18f7ac_29e9_11ec_bf73_0242ac1c0002row9_col0\" class=\"data row9 col0\" >-0.003082</td>\n",
              "                        <td id=\"T_ab18f7ac_29e9_11ec_bf73_0242ac1c0002row9_col1\" class=\"data row9 col1\" >-0.021852</td>\n",
              "                        <td id=\"T_ab18f7ac_29e9_11ec_bf73_0242ac1c0002row9_col2\" class=\"data row9 col2\" >-0.034443</td>\n",
              "                        <td id=\"T_ab18f7ac_29e9_11ec_bf73_0242ac1c0002row9_col3\" class=\"data row9 col3\" >0.026466</td>\n",
              "                        <td id=\"T_ab18f7ac_29e9_11ec_bf73_0242ac1c0002row9_col4\" class=\"data row9 col4\" >-0.004772</td>\n",
              "                        <td id=\"T_ab18f7ac_29e9_11ec_bf73_0242ac1c0002row9_col5\" class=\"data row9 col5\" >0.004569</td>\n",
              "                        <td id=\"T_ab18f7ac_29e9_11ec_bf73_0242ac1c0002row9_col6\" class=\"data row9 col6\" >-0.002942</td>\n",
              "                        <td id=\"T_ab18f7ac_29e9_11ec_bf73_0242ac1c0002row9_col7\" class=\"data row9 col7\" >-0.018459</td>\n",
              "                        <td id=\"T_ab18f7ac_29e9_11ec_bf73_0242ac1c0002row9_col8\" class=\"data row9 col8\" >-0.004385</td>\n",
              "                        <td id=\"T_ab18f7ac_29e9_11ec_bf73_0242ac1c0002row9_col9\" class=\"data row9 col9\" >1.000000</td>\n",
              "                        <td id=\"T_ab18f7ac_29e9_11ec_bf73_0242ac1c0002row9_col10\" class=\"data row9 col10\" >0.021092</td>\n",
              "                        <td id=\"T_ab18f7ac_29e9_11ec_bf73_0242ac1c0002row9_col11\" class=\"data row9 col11\" >-0.024036</td>\n",
              "            </tr>\n",
              "            <tr>\n",
              "                        <th id=\"T_ab18f7ac_29e9_11ec_bf73_0242ac1c0002level0_row10\" class=\"row_heading level0 row10\" >Is_Single</th>\n",
              "                        <td id=\"T_ab18f7ac_29e9_11ec_bf73_0242ac1c0002row10_col0\" class=\"data row10 col0\" >0.002782</td>\n",
              "                        <td id=\"T_ab18f7ac_29e9_11ec_bf73_0242ac1c0002row10_col1\" class=\"data row10 col1\" >-0.005342</td>\n",
              "                        <td id=\"T_ab18f7ac_29e9_11ec_bf73_0242ac1c0002row10_col2\" class=\"data row10 col2\" >-0.001748</td>\n",
              "                        <td id=\"T_ab18f7ac_29e9_11ec_bf73_0242ac1c0002row10_col3\" class=\"data row10 col3\" >-0.025624</td>\n",
              "                        <td id=\"T_ab18f7ac_29e9_11ec_bf73_0242ac1c0002row10_col4\" class=\"data row10 col4\" >-0.007581</td>\n",
              "                        <td id=\"T_ab18f7ac_29e9_11ec_bf73_0242ac1c0002row10_col5\" class=\"data row10 col5\" >0.012351</td>\n",
              "                        <td id=\"T_ab18f7ac_29e9_11ec_bf73_0242ac1c0002row10_col6\" class=\"data row10 col6\" >-0.009388</td>\n",
              "                        <td id=\"T_ab18f7ac_29e9_11ec_bf73_0242ac1c0002row10_col7\" class=\"data row10 col7\" >0.003987</td>\n",
              "                        <td id=\"T_ab18f7ac_29e9_11ec_bf73_0242ac1c0002row10_col8\" class=\"data row10 col8\" >-0.007524</td>\n",
              "                        <td id=\"T_ab18f7ac_29e9_11ec_bf73_0242ac1c0002row10_col9\" class=\"data row10 col9\" >0.021092</td>\n",
              "                        <td id=\"T_ab18f7ac_29e9_11ec_bf73_0242ac1c0002row10_col10\" class=\"data row10 col10\" >1.000000</td>\n",
              "                        <td id=\"T_ab18f7ac_29e9_11ec_bf73_0242ac1c0002row10_col11\" class=\"data row10 col11\" >0.001206</td>\n",
              "            </tr>\n",
              "            <tr>\n",
              "                        <th id=\"T_ab18f7ac_29e9_11ec_bf73_0242ac1c0002level0_row11\" class=\"row_heading level0 row11\" >Has_Car</th>\n",
              "                        <td id=\"T_ab18f7ac_29e9_11ec_bf73_0242ac1c0002row11_col0\" class=\"data row11 col0\" >0.004012</td>\n",
              "                        <td id=\"T_ab18f7ac_29e9_11ec_bf73_0242ac1c0002row11_col1\" class=\"data row11 col1\" >0.009382</td>\n",
              "                        <td id=\"T_ab18f7ac_29e9_11ec_bf73_0242ac1c0002row11_col2\" class=\"data row11 col2\" >0.007582</td>\n",
              "                        <td id=\"T_ab18f7ac_29e9_11ec_bf73_0242ac1c0002row11_col3\" class=\"data row11 col3\" >-0.001777</td>\n",
              "                        <td id=\"T_ab18f7ac_29e9_11ec_bf73_0242ac1c0002row11_col4\" class=\"data row11 col4\" >0.011760</td>\n",
              "                        <td id=\"T_ab18f7ac_29e9_11ec_bf73_0242ac1c0002row11_col5\" class=\"data row11 col5\" >0.001665</td>\n",
              "                        <td id=\"T_ab18f7ac_29e9_11ec_bf73_0242ac1c0002row11_col6\" class=\"data row11 col6\" >0.025483</td>\n",
              "                        <td id=\"T_ab18f7ac_29e9_11ec_bf73_0242ac1c0002row11_col7\" class=\"data row11 col7\" >0.009160</td>\n",
              "                        <td id=\"T_ab18f7ac_29e9_11ec_bf73_0242ac1c0002row11_col8\" class=\"data row11 col8\" >0.000315</td>\n",
              "                        <td id=\"T_ab18f7ac_29e9_11ec_bf73_0242ac1c0002row11_col9\" class=\"data row11 col9\" >-0.024036</td>\n",
              "                        <td id=\"T_ab18f7ac_29e9_11ec_bf73_0242ac1c0002row11_col10\" class=\"data row11 col10\" >0.001206</td>\n",
              "                        <td id=\"T_ab18f7ac_29e9_11ec_bf73_0242ac1c0002row11_col11\" class=\"data row11 col11\" >1.000000</td>\n",
              "            </tr>\n",
              "    </tbody></table>"
            ],
            "text/plain": [
              "<pandas.io.formats.style.Styler at 0x7ff8e5543590>"
            ]
          },
          "metadata": {},
          "execution_count": 220
        }
      ]
    },
    {
      "cell_type": "markdown",
      "metadata": {
        "id": "G0hiaS3KHTq6"
      },
      "source": [
        "Terdapat korelasi yang tinggi antara Experience dan CURRENT_JOB_YRS\tdimana hal ini masuk akal jika seseorang memiliki Job Years yang tinggi maka ia memiliki pengalaman yang tinggi. Selain itu, tidak ada korelasi yang tinggi antara fitur lain."
      ]
    },
    {
      "cell_type": "code",
      "metadata": {
        "id": "lIvFcfPmshIa"
      },
      "source": [
        "agg_demography_col = ['Age', 'Income']\n",
        "\n",
        "agg_df_demography = df_train_eda[['Age', 'Income', 'Risk_Flag']] \\\n",
        "                            .groupby(['Age', 'Risk_Flag']) \\\n",
        "                            .mean() \\\n",
        "                            .sort_values(by='Age') \\\n",
        "                            .reset_index()\n",
        "\n",
        "agg_df_demography['Risk_Flag'].replace({0: \"No Risk\",\n",
        "                                        1: \"Risk\"\n",
        "                                       }, inplace=True)"
      ],
      "execution_count": 175,
      "outputs": []
    },
    {
      "cell_type": "code",
      "metadata": {
        "id": "G3M6F-mhuJDr"
      },
      "source": [
        "mean_general = df_train_eda[df_train_eda['Risk_Flag'] == 1]\n",
        "\n",
        "mean_general = mean_general['Income'].mean()\n",
        "\n",
        "mean_array = mean_general * np.ones(agg_df_demography['Age'].nunique())"
      ],
      "execution_count": 176,
      "outputs": []
    },
    {
      "cell_type": "code",
      "metadata": {
        "colab": {
          "base_uri": "https://localhost:8080/",
          "height": 636
        },
        "id": "CVVj4957s7wp",
        "outputId": "7bcd285a-48c2-44b8-9420-70795a45069f"
      },
      "source": [
        "sns.set_style(\"darkgrid\")\n",
        "sns.set_context(\"notebook\", font_scale=1, rc={\"lines.linewidth\": 2.5})\n",
        "\n",
        "fig, ax = plt.subplots(figsize = (17,10))\n",
        "\n",
        "g = sns.scatterplot(x=\"Age\",\n",
        "                    y=\"Income\",\n",
        "                    data=agg_df_demography,\n",
        "                    hue='Risk_Flag',\n",
        "                    legend=True,\n",
        "                    s=150,\n",
        "                    palette='Paired')\n",
        "\n",
        "plt.plot(mean_array, label='General Average', color='red')\n",
        "\n",
        "ax.legend(loc='best')\n",
        "\n",
        "ylabels = ['INR' + '{:,.2f}'.format(x) + 'M' for x in g.get_yticks()/1000000]\n",
        "g.set_yticklabels(ylabels)\n",
        "\n",
        "ax.set_title('Average Income By Age',\n",
        "             fontdict={'fontsize':24,\n",
        "                       'fontweight':'bold'})\n",
        "ax.set_xlabel('Age',\n",
        "              fontdict={'fontsize':13,\n",
        "                       'fontweight':'bold'})\n",
        "ax.set_ylabel('Income',\n",
        "              fontdict={'fontsize':13,\n",
        "                       'fontweight':'bold'})\n",
        "\n",
        "sns.despine()\n",
        "\n",
        "plt.show()"
      ],
      "execution_count": 177,
      "outputs": [
        {
          "output_type": "display_data",
          "data": {
            "image/png": "[encoded data removed]",
            "text/plain": [
              "<Figure size 1224x720 with 1 Axes>"
            ]
          },
          "metadata": {}
        }
      ]
    },
    {
      "cell_type": "markdown",
      "metadata": {
        "id": "HF9QuBdVH06B"
      },
      "source": [
        "Pada Scatterplot ini ada beberapa analisis yang bisa saya dapatkan:\n",
        "1. Bahwa seseorang memiliki umur yang semakin tua, tidak menjamin ia memiliki Income yang tinggi. Mungkin hal ini ditentukan oleh Profesinya serta Kota/Prov yang ia tempati.\n",
        "2. Parameter umur tidak bisa menjamin seseorang menjadi peminjam **Risk**. Tidak selamanya yang berumur muda masuk kedalam kategori riskan, bahkan saya melihat kategoti umur diatas 30 tahun lebih banyak masuk dalam kategori peminjam riskan\n",
        "\n"
      ]
    },
    {
      "cell_type": "code",
      "metadata": {
        "id": "0Wf6Dg6pmXI-"
      },
      "source": [
        "#Count Each City in their respective STATE\n",
        "cols_geography = ['CITY', 'STATE', 'Risk_Flag']\n",
        "agg_by_state = df_train_eda[cols_geography].groupby(['STATE', 'Risk_Flag']) \\\n",
        "                                            .count() \\\n",
        "                                            .reset_index() \\\n",
        "                                            .rename(columns={\n",
        "                                                        'CITY': '#People'\n",
        "                                                            })\n",
        "#By The Percentage\n",
        "agg_by_state['Percentage_Total'] = (agg_by_state['#People'] \\\n",
        "                                / agg_by_state['#People'].sum())*100\n",
        "#Rename Risk Flag for Legend Purpose\n",
        "agg_by_state['Risk_Flag'] = agg_by_state['Risk_Flag'].replace({0:'No Risk',\n",
        "                                                               1:'Risk'})"
      ],
      "execution_count": 178,
      "outputs": []
    },
    {
      "cell_type": "code",
      "metadata": {
        "id": "YABcIiIZnO7c"
      },
      "source": [
        "#Average Income in Every State\n",
        "cols_geography = ['STATE', 'Risk_Flag', 'Income']\n",
        "\n",
        "agg_by_state_income = df_train_eda[cols_geography].groupby(['STATE', 'Risk_Flag']) \\\n",
        "                                            .mean() \\\n",
        "                                            .reset_index() \\\n",
        "                                            .rename(columns={\n",
        "                                                        'Income': 'Avg Income'\n",
        "                                                            })\n",
        "\n",
        "agg_by_state['Avg Income'] = agg_by_state_income['Avg Income']"
      ],
      "execution_count": 179,
      "outputs": []
    },
    {
      "cell_type": "code",
      "metadata": {
        "colab": {
          "base_uri": "https://localhost:8080/",
          "height": 204
        },
        "id": "YHcEdyt9oaHo",
        "outputId": "ae2c883b-3ddc-4693-fbab-f57df718c4ed"
      },
      "source": [
        "agg_by_state.head()"
      ],
      "execution_count": 180,
      "outputs": [
        {
          "output_type": "execute_result",
          "data": {
            "text/html": [
              "<div>\n",
              "<style scoped>\n",
              "    .dataframe tbody tr th:only-of-type {\n",
              "        vertical-align: middle;\n",
              "    }\n",
              "\n",
              "    .dataframe tbody tr th {\n",
              "        vertical-align: top;\n",
              "    }\n",
              "\n",
              "    .dataframe thead th {\n",
              "        text-align: right;\n",
              "    }\n",
              "</style>\n",
              "<table border=\"1\" class=\"dataframe\">\n",
              "  <thead>\n",
              "    <tr style=\"text-align: right;\">\n",
              "      <th></th>\n",
              "      <th>STATE</th>\n",
              "      <th>Risk_Flag</th>\n",
              "      <th>#People</th>\n",
              "      <th>Percentage_Total</th>\n",
              "      <th>Avg Income</th>\n",
              "    </tr>\n",
              "  </thead>\n",
              "  <tbody>\n",
              "    <tr>\n",
              "      <th>0</th>\n",
              "      <td>Andhra_Pradesh</td>\n",
              "      <td>No Risk</td>\n",
              "      <td>22362</td>\n",
              "      <td>8.873810</td>\n",
              "      <td>5.111795e+06</td>\n",
              "    </tr>\n",
              "    <tr>\n",
              "      <th>1</th>\n",
              "      <td>Andhra_Pradesh</td>\n",
              "      <td>Risk</td>\n",
              "      <td>2935</td>\n",
              "      <td>1.164683</td>\n",
              "      <td>4.928169e+06</td>\n",
              "    </tr>\n",
              "    <tr>\n",
              "      <th>2</th>\n",
              "      <td>Assam</td>\n",
              "      <td>No Risk</td>\n",
              "      <td>6132</td>\n",
              "      <td>2.433333</td>\n",
              "      <td>4.822776e+06</td>\n",
              "    </tr>\n",
              "    <tr>\n",
              "      <th>3</th>\n",
              "      <td>Assam</td>\n",
              "      <td>Risk</td>\n",
              "      <td>930</td>\n",
              "      <td>0.369048</td>\n",
              "      <td>4.965814e+06</td>\n",
              "    </tr>\n",
              "    <tr>\n",
              "      <th>4</th>\n",
              "      <td>Bihar</td>\n",
              "      <td>No Risk</td>\n",
              "      <td>17197</td>\n",
              "      <td>6.824206</td>\n",
              "      <td>5.039566e+06</td>\n",
              "    </tr>\n",
              "  </tbody>\n",
              "</table>\n",
              "</div>"
            ],
            "text/plain": [
              "            STATE Risk_Flag  #People  Percentage_Total    Avg Income\n",
              "0  Andhra_Pradesh   No Risk    22362          8.873810  5.111795e+06\n",
              "1  Andhra_Pradesh      Risk     2935          1.164683  4.928169e+06\n",
              "2           Assam   No Risk     6132          2.433333  4.822776e+06\n",
              "3           Assam      Risk      930          0.369048  4.965814e+06\n",
              "4           Bihar   No Risk    17197          6.824206  5.039566e+06"
            ]
          },
          "metadata": {},
          "execution_count": 180
        }
      ]
    },
    {
      "cell_type": "code",
      "metadata": {
        "colab": {
          "base_uri": "https://localhost:8080/",
          "height": 725
        },
        "id": "m1BAoOnTnYBT",
        "outputId": "9c675f12-b87c-4889-9658-306073733fea"
      },
      "source": [
        "sns.set_style(\"darkgrid\")\n",
        "sns.set_context(\"notebook\", font_scale=1, rc={\"lines.linewidth\": 2.5})\n",
        "\n",
        "fig, ax = plt.subplots(figsize = (17,10))\n",
        "\n",
        "agg_by_state = agg_by_state.sort_values(by=['Risk_Flag', 'Avg Income'], ascending=False)\n",
        "\n",
        "g = sns.barplot(data=agg_by_state, y='STATE',\n",
        "            x='Avg Income', hue='Risk_Flag', palette = 'rocket')\n",
        "\n",
        "ax.set_title('Average Income By State and Risk',\n",
        "             fontdict={'fontsize':24,\n",
        "                       'fontweight':'bold'})\n",
        "ax.set_xlabel('Income',\n",
        "              fontdict={'fontsize':13,\n",
        "                       'fontweight':'bold'})\n",
        "ax.set_ylabel('State',\n",
        "              fontdict={'fontsize':13,\n",
        "                       'fontweight':'bold'})\n",
        "\n",
        "xlabels = ['INR' + '{:,.2f}'.format(x) + 'M' for x in g.get_xticks()/1000000]\n",
        "g.set_xticklabels(xlabels)\n",
        "\n",
        "plt.legend(loc='best')\n",
        "plt.tight_layout()\n",
        "\n",
        "plt.show()"
      ],
      "execution_count": 181,
      "outputs": [
        {
          "output_type": "display_data",
          "data": {
            "image/png": "[encoded data removed]",
            "text/plain": [
              "<Figure size 1224x720 with 1 Axes>"
            ]
          },
          "metadata": {}
        }
      ]
    },
    {
      "cell_type": "code",
      "metadata": {
        "id": "puxCUMU4lzlw"
      },
      "source": [
        "# Count number of clients in each state\n",
        "state_count = df_demography['STATE'].value_counts().sort_index()\n",
        "\n",
        "# Aggregate data to get proportion of risk operations in each state\n",
        "agg_by_state_only_risk = agg_by_state[agg_by_state['Risk_Flag'] == 'Risk'].copy()\n",
        "agg_by_state_only_risk = agg_by_state_only_risk.sort_values(by=['STATE'])\n",
        "\n",
        "agg_by_state_only_risk['#People_State'] = state_count.values\n",
        "\n",
        "agg_by_state_only_risk['Percentage_Risk'] = (agg_by_state_only_risk['#People'].values \\\n",
        "                                            / state_count.values) * 100\n",
        "                \n",
        "agg_by_state_only_risk = agg_by_state_only_risk.sort_values(\n",
        "                                                by=['Percentage_Risk'],\n",
        "                                                ascending=False)"
      ],
      "execution_count": 182,
      "outputs": []
    },
    {
      "cell_type": "code",
      "metadata": {
        "colab": {
          "base_uri": "https://localhost:8080/",
          "height": 204
        },
        "id": "3hSDH3pRqRNR",
        "outputId": "431773c3-6abb-45ff-b1f3-8a6140e0781d"
      },
      "source": [
        "agg_by_state_only_risk.head()"
      ],
      "execution_count": 183,
      "outputs": [
        {
          "output_type": "execute_result",
          "data": {
            "text/html": [
              "<div>\n",
              "<style scoped>\n",
              "    .dataframe tbody tr th:only-of-type {\n",
              "        vertical-align: middle;\n",
              "    }\n",
              "\n",
              "    .dataframe tbody tr th {\n",
              "        vertical-align: top;\n",
              "    }\n",
              "\n",
              "    .dataframe thead th {\n",
              "        text-align: right;\n",
              "    }\n",
              "</style>\n",
              "<table border=\"1\" class=\"dataframe\">\n",
              "  <thead>\n",
              "    <tr style=\"text-align: right;\">\n",
              "      <th></th>\n",
              "      <th>STATE</th>\n",
              "      <th>Risk_Flag</th>\n",
              "      <th>#People</th>\n",
              "      <th>Percentage_Total</th>\n",
              "      <th>Avg Income</th>\n",
              "      <th>#People_State</th>\n",
              "      <th>Percentage_Risk</th>\n",
              "    </tr>\n",
              "  </thead>\n",
              "  <tbody>\n",
              "    <tr>\n",
              "      <th>31</th>\n",
              "      <td>Manipur</td>\n",
              "      <td>Risk</td>\n",
              "      <td>183</td>\n",
              "      <td>0.072619</td>\n",
              "      <td>6.452880e+06</td>\n",
              "      <td>849</td>\n",
              "      <td>21.554770</td>\n",
              "    </tr>\n",
              "    <tr>\n",
              "      <th>49</th>\n",
              "      <td>Tripura</td>\n",
              "      <td>Risk</td>\n",
              "      <td>136</td>\n",
              "      <td>0.053968</td>\n",
              "      <td>4.984898e+06</td>\n",
              "      <td>809</td>\n",
              "      <td>16.810878</td>\n",
              "    </tr>\n",
              "    <tr>\n",
              "      <th>25</th>\n",
              "      <td>Kerala</td>\n",
              "      <td>Risk</td>\n",
              "      <td>970</td>\n",
              "      <td>0.384921</td>\n",
              "      <td>5.148648e+06</td>\n",
              "      <td>5805</td>\n",
              "      <td>16.709733</td>\n",
              "    </tr>\n",
              "    <tr>\n",
              "      <th>19</th>\n",
              "      <td>Jammu_and_Kashmir</td>\n",
              "      <td>Risk</td>\n",
              "      <td>283</td>\n",
              "      <td>0.112302</td>\n",
              "      <td>4.656932e+06</td>\n",
              "      <td>1780</td>\n",
              "      <td>15.898876</td>\n",
              "    </tr>\n",
              "    <tr>\n",
              "      <th>27</th>\n",
              "      <td>Madhya_Pradesh</td>\n",
              "      <td>Risk</td>\n",
              "      <td>2180</td>\n",
              "      <td>0.865079</td>\n",
              "      <td>5.075821e+06</td>\n",
              "      <td>14122</td>\n",
              "      <td>15.436907</td>\n",
              "    </tr>\n",
              "  </tbody>\n",
              "</table>\n",
              "</div>"
            ],
            "text/plain": [
              "                STATE Risk_Flag  ...  #People_State  Percentage_Risk\n",
              "31            Manipur      Risk  ...            849        21.554770\n",
              "49            Tripura      Risk  ...            809        16.810878\n",
              "25             Kerala      Risk  ...           5805        16.709733\n",
              "19  Jammu_and_Kashmir      Risk  ...           1780        15.898876\n",
              "27     Madhya_Pradesh      Risk  ...          14122        15.436907\n",
              "\n",
              "[5 rows x 7 columns]"
            ]
          },
          "metadata": {},
          "execution_count": 183
        }
      ]
    },
    {
      "cell_type": "code",
      "metadata": {
        "colab": {
          "base_uri": "https://localhost:8080/",
          "height": 725
        },
        "id": "ioIYEN2aqWgc",
        "outputId": "41e89beb-981d-4b25-c84d-a3f04043f42f"
      },
      "source": [
        "sns.set_style(\"darkgrid\")\n",
        "sns.set_context(\"notebook\", font_scale=1, rc={\"lines.linewidth\": 2.5})\n",
        "\n",
        "fig, ax = plt.subplots(figsize = (17,10))\n",
        "\n",
        "g = sns.barplot(data=agg_by_state_only_risk, y='STATE',\n",
        "            x='Percentage_Risk', hue='Risk_Flag',palette='viridis')\n",
        "\n",
        "risk_mean = agg_by_state_only_risk['Percentage_Risk'].mean()\n",
        "\n",
        "plt.bar(x=risk_mean, height = len(agg_by_state_only_risk), width=0.1,\n",
        "        label='Average Risk by State', color='red')\n",
        "\n",
        "\n",
        "ax.set_title('Average Income By State and Risk',\n",
        "             fontdict={'fontsize':24,\n",
        "                       'fontweight':'bold'})\n",
        "ax.set_xlabel('Income',\n",
        "              fontdict={'fontsize':13,\n",
        "                       'fontweight':'bold'})\n",
        "ax.set_ylabel('State',\n",
        "              fontdict={'fontsize':13,\n",
        "                       'fontweight':'bold'})\n",
        "plt.legend(loc='best')\n",
        "\n",
        "plt.tight_layout()\n",
        "\n",
        "plt.show()"
      ],
      "execution_count": 222,
      "outputs": [
        {
          "output_type": "display_data",
          "data": {
            "image/png": "[encoded data removed]",
            "text/plain": [
              "<Figure size 1224x720 with 1 Axes>"
            ]
          },
          "metadata": {}
        }
      ]
    },
    {
      "cell_type": "markdown",
      "metadata": {
        "id": "Q1WxmouQKLh1"
      },
      "source": [
        "Manipur sebagai kota dengan persentase jumlah peminjam kategori riskan terbanyak pada data. Faktanya, mayoritas dari State yang ada memiliki banyak peminjam riskan, melewati rata rata peminjam riskan seluruh State."
      ]
    },
    {
      "cell_type": "markdown",
      "metadata": {
        "id": "HmkZgXb6Kvni"
      },
      "source": [
        "## Machine Learning (Base Model)"
      ]
    },
    {
      "cell_type": "markdown",
      "metadata": {
        "id": "t3TWpVjBLpAe"
      },
      "source": [
        "**Evaluation Metric**\n",
        "\n",
        "For this problem:\n",
        "\n",
        "**True Positive (TP)**: our model predicted a high probability of loan default, and it would be a default.\n",
        "\n",
        "**True Negative (TN)**: our model predicted that the operation has a low risk and it had a low risk;\n",
        "\n",
        "**False Positive (FP)**: our model predicted RISK, and it hasn't happened a loan default;\n",
        "\n",
        "**False Negative (FN)**: our model predicted NO RISK, and the operation was RISK <--- Worst case scenario."
      ]
    },
    {
      "cell_type": "markdown",
      "metadata": {
        "id": "sju-e11EMC2d"
      },
      "source": [
        "Disini kita ingin memaksimalkan True Positive dan True Negative maka digunakan Metric untuk menilai model menggunkan:\n",
        "\n",
        "\n",
        "*   AUC ROC: Area dibawah kurva ROC\n",
        "*   AUC PRC: Area dibawah precision-recall kurva\n"
      ]
    },
    {
      "cell_type": "code",
      "metadata": {
        "colab": {
          "base_uri": "https://localhost:8080/"
        },
        "id": "3VhHnVON3LNF",
        "outputId": "69b7e7e4-bc80-4077-d78e-c2c85ae8a8d3"
      },
      "source": [
        "risk_pct = df_train['Risk_Flag'].value_counts(normalize=True)\n",
        "\n",
        "risk_pct"
      ],
      "execution_count": 185,
      "outputs": [
        {
          "output_type": "execute_result",
          "data": {
            "text/plain": [
              "0    0.877\n",
              "1    0.123\n",
              "Name: Risk_Flag, dtype: float64"
            ]
          },
          "metadata": {},
          "execution_count": 185
        }
      ]
    },
    {
      "cell_type": "markdown",
      "metadata": {
        "id": "6QoIlIZEK1Hw"
      },
      "source": [
        "### Split the Data"
      ]
    },
    {
      "cell_type": "markdown",
      "metadata": {
        "id": "n6HjmDQ9MkrF"
      },
      "source": [
        "10% validation: with 12.4% risk (seed=42)\n",
        "\n",
        "20% test: with 12.3% risk (seed=42)\n",
        "\n",
        "70% training: with 12.2% risk (seed=42)\n",
        "\n",
        "Sebelumnya kita meilhat bahwa kategori No Risk jumlahnya sangatlah besar dibanding Risk maka dalam split ini kategori Risk haruslah displit secara merata sebesar 12%."
      ]
    },
    {
      "cell_type": "code",
      "metadata": {
        "id": "d-dUEwak7b7X"
      },
      "source": [
        "def split_val_train_test(df, col_target, divison_pct=[0.1,0.2], rdn_seed=42):\n",
        "    \"\"\"\n",
        "    Split Dataframe into X and Y and \n",
        "    then Split into Validation, Train and Test\n",
        "    \"\"\"\n",
        "    from sklearn.model_selection import train_test_split\n",
        "    \n",
        "    X = df.drop(columns=col_target).copy()\n",
        "    Y = df[col_target].copy().values.ravel()\n",
        "    \n",
        "    # Validation dataset\n",
        "    if(divison_pct[0] > 0):\n",
        "        X_not_val, X_val, Y_not_val, Y_val = train_test_split(X,\n",
        "                                                              Y,\n",
        "                                                              test_size=divison_pct[0],\n",
        "                                                              random_state=rdn_seed)\n",
        "    else:\n",
        "        X_not_val = X\n",
        "        Y_not_val = Y\n",
        "        X_val = []\n",
        "        y_val = []\n",
        "        \n",
        "    # Train and test dataset\n",
        "    X_train, X_test, Y_train, Y_test = train_test_split(X_not_val,\n",
        "                                                        Y_not_val,\n",
        "                                                        test_size=divison_pct[1],\n",
        "                                                        random_state=rdn_seed)\n",
        "    \n",
        "    # Return splitted data as dictionary \n",
        "    splitted_data = [X_train, X_test, X_val, Y_train, Y_test, Y_val]\n",
        "    key_names = ['X_train', 'X_test', 'X_val', 'Y_train', 'Y_test', 'Y_val']\n",
        "    splitted_data_dict = dict(zip(key_names, splitted_data))\n",
        "\n",
        "    return splitted_data_dict"
      ],
      "execution_count": 196,
      "outputs": []
    },
    {
      "cell_type": "code",
      "metadata": {
        "id": "9zCRFN1B-jXW"
      },
      "source": [
        "X_train, X_test, Y_train, Y_test = [],[],[],[]\n",
        "col_target = ['Risk_Flag']\n",
        "\n",
        "splitted_data_dict = split_val_train_test(df_train, col_target)\n",
        "\n",
        "# Assigning values\n",
        "X_train, Y_train = splitted_data_dict['X_train'], splitted_data_dict['Y_train']\n",
        "X_test, Y_test = splitted_data_dict['X_test'], splitted_data_dict['Y_test']\n",
        "X_val, Y_val = splitted_data_dict['X_val'], splitted_data_dict['Y_val']"
      ],
      "execution_count": 198,
      "outputs": []
    },
    {
      "cell_type": "code",
      "metadata": {
        "colab": {
          "base_uri": "https://localhost:8080/",
          "height": 204
        },
        "id": "furSniWD-2ZS",
        "outputId": "91b5311f-d111-43bc-b631-fdb23b4d444a"
      },
      "source": [
        "X_train.head()"
      ],
      "execution_count": 199,
      "outputs": [
        {
          "output_type": "execute_result",
          "data": {
            "text/html": [
              "<div>\n",
              "<style scoped>\n",
              "    .dataframe tbody tr th:only-of-type {\n",
              "        vertical-align: middle;\n",
              "    }\n",
              "\n",
              "    .dataframe tbody tr th {\n",
              "        vertical-align: top;\n",
              "    }\n",
              "\n",
              "    .dataframe thead th {\n",
              "        text-align: right;\n",
              "    }\n",
              "</style>\n",
              "<table border=\"1\" class=\"dataframe\">\n",
              "  <thead>\n",
              "    <tr style=\"text-align: right;\">\n",
              "      <th></th>\n",
              "      <th>Income</th>\n",
              "      <th>Age</th>\n",
              "      <th>Experience</th>\n",
              "      <th>House_Ownership</th>\n",
              "      <th>Profession</th>\n",
              "      <th>CITY</th>\n",
              "      <th>STATE</th>\n",
              "      <th>CURRENT_JOB_YRS</th>\n",
              "      <th>CURRENT_HOUSE_YRS</th>\n",
              "      <th>Is_Single</th>\n",
              "      <th>Has_Car</th>\n",
              "    </tr>\n",
              "  </thead>\n",
              "  <tbody>\n",
              "    <tr>\n",
              "      <th>72450</th>\n",
              "      <td>7268991</td>\n",
              "      <td>35</td>\n",
              "      <td>7</td>\n",
              "      <td>2</td>\n",
              "      <td>48</td>\n",
              "      <td>12</td>\n",
              "      <td>0</td>\n",
              "      <td>7</td>\n",
              "      <td>10</td>\n",
              "      <td>1</td>\n",
              "      <td>1</td>\n",
              "    </tr>\n",
              "    <tr>\n",
              "      <th>195782</th>\n",
              "      <td>5288986</td>\n",
              "      <td>47</td>\n",
              "      <td>3</td>\n",
              "      <td>2</td>\n",
              "      <td>12</td>\n",
              "      <td>191</td>\n",
              "      <td>23</td>\n",
              "      <td>3</td>\n",
              "      <td>12</td>\n",
              "      <td>1</td>\n",
              "      <td>0</td>\n",
              "    </tr>\n",
              "    <tr>\n",
              "      <th>250365</th>\n",
              "      <td>3954174</td>\n",
              "      <td>33</td>\n",
              "      <td>16</td>\n",
              "      <td>2</td>\n",
              "      <td>22</td>\n",
              "      <td>278</td>\n",
              "      <td>28</td>\n",
              "      <td>3</td>\n",
              "      <td>14</td>\n",
              "      <td>1</td>\n",
              "      <td>0</td>\n",
              "    </tr>\n",
              "    <tr>\n",
              "      <th>200930</th>\n",
              "      <td>808476</td>\n",
              "      <td>36</td>\n",
              "      <td>1</td>\n",
              "      <td>2</td>\n",
              "      <td>6</td>\n",
              "      <td>81</td>\n",
              "      <td>10</td>\n",
              "      <td>1</td>\n",
              "      <td>13</td>\n",
              "      <td>1</td>\n",
              "      <td>0</td>\n",
              "    </tr>\n",
              "    <tr>\n",
              "      <th>185020</th>\n",
              "      <td>8845611</td>\n",
              "      <td>37</td>\n",
              "      <td>14</td>\n",
              "      <td>2</td>\n",
              "      <td>37</td>\n",
              "      <td>26</td>\n",
              "      <td>22</td>\n",
              "      <td>10</td>\n",
              "      <td>13</td>\n",
              "      <td>1</td>\n",
              "      <td>0</td>\n",
              "    </tr>\n",
              "  </tbody>\n",
              "</table>\n",
              "</div>"
            ],
            "text/plain": [
              "         Income  Age  Experience  ...  CURRENT_HOUSE_YRS  Is_Single  Has_Car\n",
              "72450   7268991   35           7  ...                 10          1        1\n",
              "195782  5288986   47           3  ...                 12          1        0\n",
              "250365  3954174   33          16  ...                 14          1        0\n",
              "200930   808476   36           1  ...                 13          1        0\n",
              "185020  8845611   37          14  ...                 13          1        0\n",
              "\n",
              "[5 rows x 11 columns]"
            ]
          },
          "metadata": {},
          "execution_count": 199
        }
      ]
    },
    {
      "cell_type": "markdown",
      "metadata": {
        "id": "t5iMPw-MLBLH"
      },
      "source": [
        "Funtion for Every Metric Plot (ROC, PRC, Confusion)"
      ]
    },
    {
      "cell_type": "code",
      "metadata": {
        "id": "9k9pze-o_m-V"
      },
      "source": [
        "def plot_clf_metrics(clf, model_name, X_test, Y_true, class_pred=1):\n",
        "    Y_pred = clf.predict_proba(X_test)[:, class_pred]\n",
        "\n",
        "    roc_auc = round(roc_auc_score(Y_true, Y_pred), 2)\n",
        "    prc_auc = round(average_precision_score(Y_true, Y_pred), 2)\n",
        "\n",
        "    print('AUC ROC = {}\\nAUC PRC = {}'.format(roc_auc, prc_auc))\n",
        "\n",
        "    # ROC plot\n",
        "    metrics.plot_roc_curve(clf, X_test, Y_true)\n",
        "    plt.title('ROC Curve - ' + model_name)\n",
        "    plt.tight_layout()\n",
        "    #plt.savefig(img_out_path+'roc_auc_+'+model_name)\n",
        "    plt.show()           \n",
        "\n",
        "\n",
        "    # PRC plot\n",
        "    disp = metrics.plot_precision_recall_curve(clf, X_test, Y_true)\n",
        "    disp.ax_.set_title('2-class Precision-Recall curve: '\n",
        "                       'AP={0:0.2f}'.format(prc_auc))\n",
        "    plt.tight_layout()\n",
        "    #plt.savefig(img_out_path+'prc_auc_+'+model_name)\n",
        "    plt.show()\n",
        "\n",
        "\n",
        "    # Confusion Matrix plot\n",
        "    plot_confusion_matrix(clf, X_test, Y_true) \n",
        "    plt.tight_layout()\n",
        "\n",
        "    plt.show()"
      ],
      "execution_count": 211,
      "outputs": []
    },
    {
      "cell_type": "markdown",
      "metadata": {
        "id": "FimpbpDoLOuo"
      },
      "source": [
        "### Logistic Regression"
      ]
    },
    {
      "cell_type": "code",
      "metadata": {
        "colab": {
          "base_uri": "https://localhost:8080/"
        },
        "id": "g3z6KlDqAXS1",
        "outputId": "a42637b1-60c0-4387-daa6-c579ab6ccb41"
      },
      "source": [
        "clf_logst_base= LogisticRegression(random_state=0,\n",
        "                                   class_weight='balanced',\n",
        "                                   max_iter=500)\n",
        "\n",
        "clf_logst_base.fit(X_train, Y_train)"
      ],
      "execution_count": 209,
      "outputs": [
        {
          "output_type": "execute_result",
          "data": {
            "text/plain": [
              "LogisticRegression(C=1.0, class_weight='balanced', dual=False,\n",
              "                   fit_intercept=True, intercept_scaling=1, l1_ratio=None,\n",
              "                   max_iter=500, multi_class='auto', n_jobs=None, penalty='l2',\n",
              "                   random_state=0, solver='lbfgs', tol=0.0001, verbose=0,\n",
              "                   warm_start=False)"
            ]
          },
          "metadata": {},
          "execution_count": 209
        }
      ]
    },
    {
      "cell_type": "code",
      "metadata": {
        "colab": {
          "base_uri": "https://localhost:8080/",
          "height": 879
        },
        "id": "xgnrBQ5P_QbO",
        "outputId": "64b99ee6-a269-41a3-ce58-5093fdcc9734"
      },
      "source": [
        "plot_clf_metrics(clf_logst_base, 'Baseline Logistic Reg One-Hot Encoding', X_test, Y_test)"
      ],
      "execution_count": 214,
      "outputs": [
        {
          "output_type": "stream",
          "name": "stdout",
          "text": [
            "AUC ROC = 0.5\n",
            "AUC PRC = 0.13\n"
          ]
        },
        {
          "output_type": "display_data",
          "data": {
            "image/png": "[encoded data removed]",
            "text/plain": [
              "<Figure size 432x288 with 1 Axes>"
            ]
          },
          "metadata": {}
        },
        {
          "output_type": "display_data",
          "data": {
            "image/png": "[encoded data removed]",
            "text/plain": [
              "<Figure size 432x288 with 1 Axes>"
            ]
          },
          "metadata": {}
        },
        {
          "output_type": "display_data",
          "data": {
            "image/png": "[encoded data removed]",
            "text/plain": [
              "<Figure size 432x288 with 2 Axes>"
            ]
          },
          "metadata": {}
        }
      ]
    },
    {
      "cell_type": "markdown",
      "metadata": {
        "id": "DOOMq5paNL29"
      },
      "source": [
        "AUC ROC -- 0.5\n",
        "\n",
        "AUC PRC -- 0.13\n",
        "\n",
        "Confusion matrix: Model tidak menemukan loan default"
      ]
    },
    {
      "cell_type": "markdown",
      "metadata": {
        "id": "bcBIU_E7LVB_"
      },
      "source": [
        "### Decision Tree"
      ]
    },
    {
      "cell_type": "code",
      "metadata": {
        "colab": {
          "base_uri": "https://localhost:8080/"
        },
        "id": "UN01bXasBCU8",
        "outputId": "b316c90d-93f6-482a-fb0e-9c2acb8d1534"
      },
      "source": [
        "from sklearn.tree import DecisionTreeClassifier\n",
        "\n",
        "clf_tree_base_2 = DecisionTreeClassifier(random_state=0,\n",
        "                               class_weight='balanced')\n",
        "\n",
        "clf_tree_base_2.fit(X_train, Y_train)"
      ],
      "execution_count": 213,
      "outputs": [
        {
          "output_type": "execute_result",
          "data": {
            "text/plain": [
              "DecisionTreeClassifier(ccp_alpha=0.0, class_weight='balanced', criterion='gini',\n",
              "                       max_depth=None, max_features=None, max_leaf_nodes=None,\n",
              "                       min_impurity_decrease=0.0, min_impurity_split=None,\n",
              "                       min_samples_leaf=1, min_samples_split=2,\n",
              "                       min_weight_fraction_leaf=0.0, presort='deprecated',\n",
              "                       random_state=0, splitter='best')"
            ]
          },
          "metadata": {},
          "execution_count": 213
        }
      ]
    },
    {
      "cell_type": "code",
      "metadata": {
        "colab": {
          "base_uri": "https://localhost:8080/",
          "height": 879
        },
        "id": "zw2kdsqUBL2s",
        "outputId": "97cdcb89-60e3-4f05-cb6a-3a83cbb40925"
      },
      "source": [
        "plot_clf_metrics(clf_tree_base_2, '#2 Baseline Decision Tree Encoding',\n",
        "                 X_test, Y_test)"
      ],
      "execution_count": 215,
      "outputs": [
        {
          "output_type": "stream",
          "name": "stdout",
          "text": [
            "AUC ROC = 0.84\n",
            "AUC PRC = 0.4\n"
          ]
        },
        {
          "output_type": "display_data",
          "data": {
            "image/png": "[encoded data removed]",
            "text/plain": [
              "<Figure size 432x288 with 1 Axes>"
            ]
          },
          "metadata": {}
        },
        {
          "output_type": "display_data",
          "data": {
            "image/png": "[encoded data removed]",
            "text/plain": [
              "<Figure size 432x288 with 1 Axes>"
            ]
          },
          "metadata": {}
        },
        {
          "output_type": "display_data",
          "data": {
            "image/png": "[encoded data removed]",
            "text/plain": [
              "<Figure size 432x288 with 2 Axes>"
            ]
          },
          "metadata": {}
        }
      ]
    },
    {
      "cell_type": "markdown",
      "metadata": {
        "id": "5FgwJu01NudO"
      },
      "source": [
        "AUC ROC -- 0.84\n",
        "\n",
        "AUC PRC -- 0.4\n",
        "\n",
        "Sejauh ini merupakan model terbaik. Untuk saat ini belum saya lanjutkan karena saya sendiri baru mengenal dua model dalam implementasi Supervised Machine Learning."
      ]
    },
    {
      "cell_type": "markdown",
      "metadata": {
        "id": "fxomSlqiN9UJ"
      },
      "source": [
        "Mohon bantuannya, bagaimana jika saya ingin memaksimalkan kembali model dan terakhir membandingkan dengan Dataset Test jika di Python"
      ]
    }
  ]
}